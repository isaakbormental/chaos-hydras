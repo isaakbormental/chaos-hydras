{
 "cells": [
  {
   "cell_type": "code",
   "execution_count": 62,
   "metadata": {},
   "outputs": [],
   "source": [
    "import pandas as pd\n",
    "import matplotlib.pyplot as plt\n",
    "%matplotlib inline\n",
    "import time\n",
    "import numpy as np"
   ]
  },
  {
   "cell_type": "code",
   "execution_count": 2,
   "metadata": {},
   "outputs": [],
   "source": [
    "pd.set_option('display.max_rows', 1000)"
   ]
  },
  {
   "cell_type": "code",
   "execution_count": 3,
   "metadata": {},
   "outputs": [],
   "source": [
    "client_categories=pd.read_csv('docs/client_categories.csv',sep=';')\n",
    "clients=pd.read_csv('docs/clients_last_2_fixed.csv', sep=';')\n",
    "full_clients=pd.merge(clients,client_categories,how='left',left_on='categorycode',right_on='category')\n",
    "stores=pd.read_csv('docs/store_last_2.csv', error_bad_lines=False,encoding= 'windows-1251',sep=';')\n",
    "transactions=pd.read_csv('docs/transactions_last_2.csv',encoding= 'windows-1251',sep=';',nrows=5000000)"
   ]
  },
  {
   "cell_type": "code",
   "execution_count": 10,
   "metadata": {},
   "outputs": [],
   "source": [
    "mccs=pd.read_excel('docs/MCC_last.xlsx')"
   ]
  },
  {
   "cell_type": "markdown",
   "metadata": {},
   "source": [
    "0. Пол, возраст, замужний/нет, резидент/нет, банковская категория "
   ]
  },
  {
   "cell_type": "code",
   "execution_count": null,
   "metadata": {},
   "outputs": [],
   "source": [
    "mccs['']"
   ]
  },
  {
   "cell_type": "code",
   "execution_count": 4,
   "metadata": {},
   "outputs": [
    {
     "data": {
      "text/html": [
       "<div>\n",
       "<style scoped>\n",
       "    .dataframe tbody tr th:only-of-type {\n",
       "        vertical-align: middle;\n",
       "    }\n",
       "\n",
       "    .dataframe tbody tr th {\n",
       "        vertical-align: top;\n",
       "    }\n",
       "\n",
       "    .dataframe thead th {\n",
       "        text-align: right;\n",
       "    }\n",
       "</style>\n",
       "<table border=\"1\" class=\"dataframe\">\n",
       "  <thead>\n",
       "    <tr style=\"text-align: right;\">\n",
       "      <th></th>\n",
       "      <th>cnum_</th>\n",
       "      <th>categorycode</th>\n",
       "      <th>gender</th>\n",
       "      <th>age</th>\n",
       "      <th>married_</th>\n",
       "      <th>residenttype</th>\n",
       "      <th>category</th>\n",
       "      <th>description</th>\n",
       "    </tr>\n",
       "  </thead>\n",
       "  <tbody>\n",
       "    <tr>\n",
       "      <td>0</td>\n",
       "      <td>0CCCDO</td>\n",
       "      <td>81</td>\n",
       "      <td>M</td>\n",
       "      <td>32</td>\n",
       "      <td>not_married</td>\n",
       "      <td>R</td>\n",
       "      <td>81</td>\n",
       "      <td>Affluent Banking payroll customer</td>\n",
       "    </tr>\n",
       "    <tr>\n",
       "      <td>1</td>\n",
       "      <td>0CCCFO</td>\n",
       "      <td>70</td>\n",
       "      <td>F</td>\n",
       "      <td>42</td>\n",
       "      <td>not_married</td>\n",
       "      <td>R</td>\n",
       "      <td>70</td>\n",
       "      <td>Regular retail banking customer</td>\n",
       "    </tr>\n",
       "    <tr>\n",
       "      <td>2</td>\n",
       "      <td>0CCCGC</td>\n",
       "      <td>50</td>\n",
       "      <td>F</td>\n",
       "      <td>33</td>\n",
       "      <td>married</td>\n",
       "      <td>R</td>\n",
       "      <td>50</td>\n",
       "      <td>Corporate customer employee/ payroll scheme</td>\n",
       "    </tr>\n",
       "    <tr>\n",
       "      <td>3</td>\n",
       "      <td>0CCCGG</td>\n",
       "      <td>70</td>\n",
       "      <td>M</td>\n",
       "      <td>58</td>\n",
       "      <td>not_married</td>\n",
       "      <td>R</td>\n",
       "      <td>70</td>\n",
       "      <td>Regular retail banking customer</td>\n",
       "    </tr>\n",
       "    <tr>\n",
       "      <td>4</td>\n",
       "      <td>0CCCGO</td>\n",
       "      <td>60</td>\n",
       "      <td>M</td>\n",
       "      <td>38</td>\n",
       "      <td>married</td>\n",
       "      <td>R</td>\n",
       "      <td>60</td>\n",
       "      <td>RBA employees</td>\n",
       "    </tr>\n",
       "    <tr>\n",
       "      <td>5</td>\n",
       "      <td>0CCCGS</td>\n",
       "      <td>50</td>\n",
       "      <td>M</td>\n",
       "      <td>40</td>\n",
       "      <td>not_married</td>\n",
       "      <td>R</td>\n",
       "      <td>50</td>\n",
       "      <td>Corporate customer employee/ payroll scheme</td>\n",
       "    </tr>\n",
       "    <tr>\n",
       "      <td>6</td>\n",
       "      <td>0CCCHG</td>\n",
       "      <td>70</td>\n",
       "      <td>M</td>\n",
       "      <td>30</td>\n",
       "      <td>married</td>\n",
       "      <td>R</td>\n",
       "      <td>70</td>\n",
       "      <td>Regular retail banking customer</td>\n",
       "    </tr>\n",
       "    <tr>\n",
       "      <td>7</td>\n",
       "      <td>0CCCHS</td>\n",
       "      <td>80</td>\n",
       "      <td>M</td>\n",
       "      <td>70</td>\n",
       "      <td>married</td>\n",
       "      <td>R</td>\n",
       "      <td>80</td>\n",
       "      <td>Affluent Banking regular customer</td>\n",
       "    </tr>\n",
       "    <tr>\n",
       "      <td>8</td>\n",
       "      <td>0CCCNN</td>\n",
       "      <td>70</td>\n",
       "      <td>F</td>\n",
       "      <td>32</td>\n",
       "      <td>not_married</td>\n",
       "      <td>R</td>\n",
       "      <td>70</td>\n",
       "      <td>Regular retail banking customer</td>\n",
       "    </tr>\n",
       "    <tr>\n",
       "      <td>9</td>\n",
       "      <td>0CCCNX</td>\n",
       "      <td>50</td>\n",
       "      <td>M</td>\n",
       "      <td>61</td>\n",
       "      <td>married</td>\n",
       "      <td>R</td>\n",
       "      <td>50</td>\n",
       "      <td>Corporate customer employee/ payroll scheme</td>\n",
       "    </tr>\n",
       "  </tbody>\n",
       "</table>\n",
       "</div>"
      ],
      "text/plain": [
       "    cnum_  categorycode gender  age     married_ residenttype  category  \\\n",
       "0  0CCCDO            81      M   32  not_married            R        81   \n",
       "1  0CCCFO            70      F   42  not_married            R        70   \n",
       "2  0CCCGC            50      F   33      married            R        50   \n",
       "3  0CCCGG            70      M   58  not_married            R        70   \n",
       "4  0CCCGO            60      M   38      married            R        60   \n",
       "5  0CCCGS            50      M   40  not_married            R        50   \n",
       "6  0CCCHG            70      M   30      married            R        70   \n",
       "7  0CCCHS            80      M   70      married            R        80   \n",
       "8  0CCCNN            70      F   32  not_married            R        70   \n",
       "9  0CCCNX            50      M   61      married            R        50   \n",
       "\n",
       "                                   description  \n",
       "0            Affluent Banking payroll customer  \n",
       "1              Regular retail banking customer  \n",
       "2  Corporate customer employee/ payroll scheme  \n",
       "3              Regular retail banking customer  \n",
       "4                                RBA employees  \n",
       "5  Corporate customer employee/ payroll scheme  \n",
       "6              Regular retail banking customer  \n",
       "7            Affluent Banking regular customer  \n",
       "8              Regular retail banking customer  \n",
       "9  Corporate customer employee/ payroll scheme  "
      ]
     },
     "execution_count": 4,
     "metadata": {},
     "output_type": "execute_result"
    }
   ],
   "source": [
    "full_clients.head(10)"
   ]
  },
  {
   "cell_type": "code",
   "execution_count": 8,
   "metadata": {},
   "outputs": [
    {
     "data": {
      "text/html": [
       "<div>\n",
       "<style scoped>\n",
       "    .dataframe tbody tr th:only-of-type {\n",
       "        vertical-align: middle;\n",
       "    }\n",
       "\n",
       "    .dataframe tbody tr th {\n",
       "        vertical-align: top;\n",
       "    }\n",
       "\n",
       "    .dataframe thead th {\n",
       "        text-align: right;\n",
       "    }\n",
       "</style>\n",
       "<table border=\"1\" class=\"dataframe\">\n",
       "  <thead>\n",
       "    <tr style=\"text-align: right;\">\n",
       "      <th></th>\n",
       "      <th>store_name</th>\n",
       "      <th>merchant_name</th>\n",
       "    </tr>\n",
       "  </thead>\n",
       "  <tbody>\n",
       "    <tr>\n",
       "      <td>400716</td>\n",
       "      <td>Трц Браво</td>\n",
       "      <td>EJI 0J7TX</td>\n",
       "    </tr>\n",
       "    <tr>\n",
       "      <td>483195</td>\n",
       "      <td>Вкусвилл</td>\n",
       "      <td>T3LKT4HH MQSP M</td>\n",
       "    </tr>\n",
       "    <tr>\n",
       "      <td>464566</td>\n",
       "      <td>Uber</td>\n",
       "      <td>L01J EJ4W UJYZJ A1HW.L 7CKE1J87C      DH</td>\n",
       "    </tr>\n",
       "    <tr>\n",
       "      <td>68708</td>\n",
       "      <td>Billa</td>\n",
       "      <td>04HH7 01HX0XJX8XT7     CXK3T7         JL</td>\n",
       "    </tr>\n",
       "    <tr>\n",
       "      <td>412801</td>\n",
       "      <td>Uber</td>\n",
       "      <td>L01J JL 910BV YGUEI A1</td>\n",
       "    </tr>\n",
       "  </tbody>\n",
       "</table>\n",
       "</div>"
      ],
      "text/plain": [
       "       store_name                             merchant_name\n",
       "400716  Трц Браво                                 EJI 0J7TX\n",
       "483195   Вкусвилл                           T3LKT4HH MQSP M\n",
       "464566       Uber  L01J EJ4W UJYZJ A1HW.L 7CKE1J87C      DH\n",
       "68708       Billa  04HH7 01HX0XJX8XT7     CXK3T7         JL\n",
       "412801       Uber                    L01J JL 910BV YGUEI A1"
      ]
     },
     "execution_count": 8,
     "metadata": {},
     "output_type": "execute_result"
    }
   ],
   "source": [
    "stores.sample(5)"
   ]
  },
  {
   "cell_type": "code",
   "execution_count": 6,
   "metadata": {},
   "outputs": [
    {
     "data": {
      "text/html": [
       "<div>\n",
       "<style scoped>\n",
       "    .dataframe tbody tr th:only-of-type {\n",
       "        vertical-align: middle;\n",
       "    }\n",
       "\n",
       "    .dataframe tbody tr th {\n",
       "        vertical-align: top;\n",
       "    }\n",
       "\n",
       "    .dataframe thead th {\n",
       "        text-align: right;\n",
       "    }\n",
       "</style>\n",
       "<table border=\"1\" class=\"dataframe\">\n",
       "  <thead>\n",
       "    <tr style=\"text-align: right;\">\n",
       "      <th></th>\n",
       "      <th>purchdate</th>\n",
       "      <th>amount</th>\n",
       "      <th>mcc</th>\n",
       "      <th>mrchcity</th>\n",
       "      <th>mrchname</th>\n",
       "      <th>cnum</th>\n",
       "    </tr>\n",
       "  </thead>\n",
       "  <tbody>\n",
       "    <tr>\n",
       "      <td>0</td>\n",
       "      <td>2019-11-02 00:00:00</td>\n",
       "      <td>9000000.0</td>\n",
       "      <td>5691</td>\n",
       "      <td>MOSCOW</td>\n",
       "      <td>IA7D1H Z1D1T7</td>\n",
       "      <td>MJNLMQ</td>\n",
       "    </tr>\n",
       "    <tr>\n",
       "      <td>1</td>\n",
       "      <td>2019-11-02 00:00:00</td>\n",
       "      <td>9000000.0</td>\n",
       "      <td>5691</td>\n",
       "      <td>MOSCOW</td>\n",
       "      <td>IA7D1H Z1D1T7</td>\n",
       "      <td>MJNLMQ</td>\n",
       "    </tr>\n",
       "    <tr>\n",
       "      <td>2</td>\n",
       "      <td>2019-10-25 00:00:00</td>\n",
       "      <td>7716900.0</td>\n",
       "      <td>5691</td>\n",
       "      <td>MOSCOW</td>\n",
       "      <td>HXL4K TL4EEXD</td>\n",
       "      <td>ELETCO</td>\n",
       "    </tr>\n",
       "    <tr>\n",
       "      <td>3</td>\n",
       "      <td>2019-11-29 00:00:00</td>\n",
       "      <td>5100000.0</td>\n",
       "      <td>6513</td>\n",
       "      <td>SANKT-PETERBU</td>\n",
       "      <td>7X 1E7HXD H1DKW1IKCL</td>\n",
       "      <td>EL0KSF</td>\n",
       "    </tr>\n",
       "    <tr>\n",
       "      <td>4</td>\n",
       "      <td>2019-12-03 00:00:00</td>\n",
       "      <td>5023956.6</td>\n",
       "      <td>5944</td>\n",
       "      <td>MOSKVA</td>\n",
       "      <td>73 7HJXK7 (W7X)</td>\n",
       "      <td>MPKIJJ</td>\n",
       "    </tr>\n",
       "  </tbody>\n",
       "</table>\n",
       "</div>"
      ],
      "text/plain": [
       "             purchdate     amount   mcc       mrchcity              mrchname  \\\n",
       "0  2019-11-02 00:00:00  9000000.0  5691         MOSCOW         IA7D1H Z1D1T7   \n",
       "1  2019-11-02 00:00:00  9000000.0  5691         MOSCOW         IA7D1H Z1D1T7   \n",
       "2  2019-10-25 00:00:00  7716900.0  5691         MOSCOW         HXL4K TL4EEXD   \n",
       "3  2019-11-29 00:00:00  5100000.0  6513  SANKT-PETERBU  7X 1E7HXD H1DKW1IKCL   \n",
       "4  2019-12-03 00:00:00  5023956.6  5944         MOSKVA       73 7HJXK7 (W7X)   \n",
       "\n",
       "     cnum  \n",
       "0  MJNLMQ  \n",
       "1  MJNLMQ  \n",
       "2  ELETCO  \n",
       "3  EL0KSF  \n",
       "4  MPKIJJ  "
      ]
     },
     "execution_count": 6,
     "metadata": {},
     "output_type": "execute_result"
    }
   ],
   "source": [
    "transactions.head()"
   ]
  },
  {
   "cell_type": "code",
   "execution_count": 12,
   "metadata": {},
   "outputs": [
    {
     "data": {
      "text/html": [
       "<div>\n",
       "<style scoped>\n",
       "    .dataframe tbody tr th:only-of-type {\n",
       "        vertical-align: middle;\n",
       "    }\n",
       "\n",
       "    .dataframe tbody tr th {\n",
       "        vertical-align: top;\n",
       "    }\n",
       "\n",
       "    .dataframe thead th {\n",
       "        text-align: right;\n",
       "    }\n",
       "</style>\n",
       "<table border=\"1\" class=\"dataframe\">\n",
       "  <thead>\n",
       "    <tr style=\"text-align: right;\">\n",
       "      <th></th>\n",
       "      <th>mcc</th>\n",
       "      <th>category</th>\n",
       "    </tr>\n",
       "  </thead>\n",
       "  <tbody>\n",
       "    <tr>\n",
       "      <td>0</td>\n",
       "      <td>742</td>\n",
       "      <td>Pet</td>\n",
       "    </tr>\n",
       "    <tr>\n",
       "      <td>1</td>\n",
       "      <td>763</td>\n",
       "      <td>Other</td>\n",
       "    </tr>\n",
       "    <tr>\n",
       "      <td>2</td>\n",
       "      <td>780</td>\n",
       "      <td>Maintenance and building</td>\n",
       "    </tr>\n",
       "    <tr>\n",
       "      <td>3</td>\n",
       "      <td>1520</td>\n",
       "      <td>Maintenance and building</td>\n",
       "    </tr>\n",
       "    <tr>\n",
       "      <td>4</td>\n",
       "      <td>1711</td>\n",
       "      <td>Maintenance and building</td>\n",
       "    </tr>\n",
       "  </tbody>\n",
       "</table>\n",
       "</div>"
      ],
      "text/plain": [
       "    mcc                  category\n",
       "0   742                       Pet\n",
       "1   763                     Other\n",
       "2   780  Maintenance and building\n",
       "3  1520  Maintenance and building\n",
       "4  1711  Maintenance and building"
      ]
     },
     "execution_count": 12,
     "metadata": {},
     "output_type": "execute_result"
    }
   ],
   "source": [
    "mccs.head()"
   ]
  },
  {
   "cell_type": "markdown",
   "metadata": {},
   "source": [
    "1. Туризм\n",
    "-смотрим количество транзакций\n",
    "-количество городов, в которых транзакции были"
   ]
  },
  {
   "cell_type": "code",
   "execution_count": 14,
   "metadata": {},
   "outputs": [],
   "source": [
    "transactions['Строка']=1\n",
    "clients_unique_cities=transactions.groupby('cnum')['mrchcity'].nunique()\n",
    "clients_number_of_transactions=transactions.groupby('cnum')['Строка'].sum()\n",
    "tourism=pd.concat([clients_unique_cities, clients_number_of_transactions], axis=1)\n",
    "tourism['Коэффициент_туризма']=tourism['mrchcity']/tourism['Строка']"
   ]
  },
  {
   "cell_type": "code",
   "execution_count": 15,
   "metadata": {},
   "outputs": [],
   "source": [
    "full_clients=pd.merge(full_clients,tourism[['Коэффициент_туризма']],how='left',left_on='cnum_',right_index=True)"
   ]
  },
  {
   "cell_type": "code",
   "execution_count": null,
   "metadata": {},
   "outputs": [],
   "source": []
  },
  {
   "cell_type": "markdown",
   "metadata": {},
   "source": [
    "2. Интересы"
   ]
  },
  {
   "cell_type": "code",
   "execution_count": 17,
   "metadata": {},
   "outputs": [
    {
     "data": {
      "text/plain": [
       "array(['Affluent Banking payroll customer',\n",
       "       'Regular retail banking customer',\n",
       "       'Corporate customer employee/ payroll scheme', 'RBA employees',\n",
       "       'Affluent Banking regular customer',\n",
       "       'Premium Direct Regular Customer',\n",
       "       'Premium Direct Payroll Customer',\n",
       "       'Corporate customer manager/ regular',\n",
       "       'Affluent Banking potential payroll customer',\n",
       "       'Private Banking customers walk-in',\n",
       "       'Private banking customers payroll',\n",
       "       'Regular retail banking customer (family)',\n",
       "       'Affluent Banking potential regular customer',\n",
       "       'RBA employees (family)', 'Corporate customer manager/ VIP',\n",
       "       'High income individuals (family)',\n",
       "       'Corporate customer employee/ payroll scheme (family)',\n",
       "       'High income individuals',\n",
       "       'Corporate customer manager/ regular (family)'], dtype=object)"
      ]
     },
     "execution_count": 17,
     "metadata": {},
     "output_type": "execute_result"
    }
   ],
   "source": [
    "full_clients['description'].unique()"
   ]
  },
  {
   "cell_type": "code",
   "execution_count": 19,
   "metadata": {},
   "outputs": [
    {
     "data": {
      "text/plain": [
       "array(['Pet', 'Other', 'Maintenance and building', 'Design, print',\n",
       "       'Tourism', 'Railway and sea transport', 'Local and autotransport',\n",
       "       'Medical', 'Taxi', 'Postal services, delivery', 'Active rest',\n",
       "       'Auto', 'Soft', 'Providers', 'Money', 'Payments', 'Clothes',\n",
       "       'Cultural life', 'Furniture, home', 'Discount', 'Supermarkets',\n",
       "       'Parking&Fuel', 'Kids', 'Sport', 'Services', 'Restaurants',\n",
       "       'Fast Food', 'Digital goods', 'Alcohol and tobacco', 'Gift, hobby',\n",
       "       'Legal and insurance', 'Beauty', 'Video games', 'Gambling',\n",
       "       'Education'], dtype=object)"
      ]
     },
     "execution_count": 19,
     "metadata": {},
     "output_type": "execute_result"
    }
   ],
   "source": [
    "mccs['category'].unique()"
   ]
  },
  {
   "cell_type": "code",
   "execution_count": 24,
   "metadata": {},
   "outputs": [],
   "source": [
    "grouped_tr=transactions[['cnum','mcc','amount']].groupby(['cnum','mcc']).sum()"
   ]
  },
  {
   "cell_type": "code",
   "execution_count": 31,
   "metadata": {},
   "outputs": [],
   "source": [
    "grouped_tr.sort_values(by='amount',ascending=False,inplace=True)"
   ]
  },
  {
   "cell_type": "code",
   "execution_count": 32,
   "metadata": {},
   "outputs": [
    {
     "data": {
      "text/html": [
       "<div>\n",
       "<style scoped>\n",
       "    .dataframe tbody tr th:only-of-type {\n",
       "        vertical-align: middle;\n",
       "    }\n",
       "\n",
       "    .dataframe tbody tr th {\n",
       "        vertical-align: top;\n",
       "    }\n",
       "\n",
       "    .dataframe thead th {\n",
       "        text-align: right;\n",
       "    }\n",
       "</style>\n",
       "<table border=\"1\" class=\"dataframe\">\n",
       "  <thead>\n",
       "    <tr style=\"text-align: right;\">\n",
       "      <th></th>\n",
       "      <th>amount</th>\n",
       "    </tr>\n",
       "    <tr>\n",
       "      <th>mcc</th>\n",
       "      <th></th>\n",
       "    </tr>\n",
       "  </thead>\n",
       "  <tbody>\n",
       "    <tr>\n",
       "      <td>6011</td>\n",
       "      <td>40084500.0</td>\n",
       "    </tr>\n",
       "    <tr>\n",
       "      <td>6211</td>\n",
       "      <td>12939000.0</td>\n",
       "    </tr>\n",
       "    <tr>\n",
       "      <td>7299</td>\n",
       "      <td>1000000.0</td>\n",
       "    </tr>\n",
       "    <tr>\n",
       "      <td>6012</td>\n",
       "      <td>392300.0</td>\n",
       "    </tr>\n",
       "    <tr>\n",
       "      <td>5941</td>\n",
       "      <td>43832.0</td>\n",
       "    </tr>\n",
       "  </tbody>\n",
       "</table>\n",
       "</div>"
      ],
      "text/plain": [
       "          amount\n",
       "mcc             \n",
       "6011  40084500.0\n",
       "6211  12939000.0\n",
       "7299   1000000.0\n",
       "6012    392300.0\n",
       "5941     43832.0"
      ]
     },
     "execution_count": 32,
     "metadata": {},
     "output_type": "execute_result"
    }
   ],
   "source": [
    "grouped_tr.loc['ELCBGE']"
   ]
  },
  {
   "cell_type": "code",
   "execution_count": 40,
   "metadata": {},
   "outputs": [
    {
     "data": {
      "text/plain": [
       "1355925"
      ]
     },
     "execution_count": 40,
     "metadata": {},
     "output_type": "execute_result"
    }
   ],
   "source": [
    "len(full_clients['cnum_'].unique())"
   ]
  },
  {
   "cell_type": "code",
   "execution_count": 41,
   "metadata": {},
   "outputs": [
    {
     "data": {
      "text/plain": [
       "854925"
      ]
     },
     "execution_count": 41,
     "metadata": {},
     "output_type": "execute_result"
    }
   ],
   "source": [
    "len(transactions['cnum'].unique())"
   ]
  },
  {
   "cell_type": "code",
   "execution_count": 60,
   "metadata": {},
   "outputs": [
    {
     "data": {
      "text/html": [
       "<div>\n",
       "<style scoped>\n",
       "    .dataframe tbody tr th:only-of-type {\n",
       "        vertical-align: middle;\n",
       "    }\n",
       "\n",
       "    .dataframe tbody tr th {\n",
       "        vertical-align: top;\n",
       "    }\n",
       "\n",
       "    .dataframe thead th {\n",
       "        text-align: right;\n",
       "    }\n",
       "</style>\n",
       "<table border=\"1\" class=\"dataframe\">\n",
       "  <thead>\n",
       "    <tr style=\"text-align: right;\">\n",
       "      <th></th>\n",
       "      <th></th>\n",
       "      <th>amount</th>\n",
       "    </tr>\n",
       "    <tr>\n",
       "      <th>cnum</th>\n",
       "      <th>mcc</th>\n",
       "      <th></th>\n",
       "    </tr>\n",
       "  </thead>\n",
       "  <tbody>\n",
       "    <tr>\n",
       "      <td>ELCBGE</td>\n",
       "      <td>6011</td>\n",
       "      <td>40084500.0</td>\n",
       "    </tr>\n",
       "    <tr>\n",
       "      <td>ELFQTA</td>\n",
       "      <td>6011</td>\n",
       "      <td>39545000.0</td>\n",
       "    </tr>\n",
       "    <tr>\n",
       "      <td>QTQRJR</td>\n",
       "      <td>6011</td>\n",
       "      <td>35176600.0</td>\n",
       "    </tr>\n",
       "    <tr>\n",
       "      <td>QTQKKK</td>\n",
       "      <td>6011</td>\n",
       "      <td>32160000.0</td>\n",
       "    </tr>\n",
       "    <tr>\n",
       "      <td>MJNLMQ</td>\n",
       "      <td>5691</td>\n",
       "      <td>28905999.0</td>\n",
       "    </tr>\n",
       "    <tr>\n",
       "      <td>...</td>\n",
       "      <td>...</td>\n",
       "      <td>...</td>\n",
       "    </tr>\n",
       "    <tr>\n",
       "      <td>ELMC64</td>\n",
       "      <td>5691</td>\n",
       "      <td>9566.0</td>\n",
       "    </tr>\n",
       "    <tr>\n",
       "      <td>VFCSSC</td>\n",
       "      <td>4511</td>\n",
       "      <td>9566.0</td>\n",
       "    </tr>\n",
       "    <tr>\n",
       "      <td>2GYYYO</td>\n",
       "      <td>9311</td>\n",
       "      <td>9566.0</td>\n",
       "    </tr>\n",
       "    <tr>\n",
       "      <td>ASGXCH</td>\n",
       "      <td>5941</td>\n",
       "      <td>9566.0</td>\n",
       "    </tr>\n",
       "    <tr>\n",
       "      <td>E4BGYE</td>\n",
       "      <td>5211</td>\n",
       "      <td>9566.0</td>\n",
       "    </tr>\n",
       "  </tbody>\n",
       "</table>\n",
       "<p>1853232 rows × 1 columns</p>\n",
       "</div>"
      ],
      "text/plain": [
       "                 amount\n",
       "cnum   mcc             \n",
       "ELCBGE 6011  40084500.0\n",
       "ELFQTA 6011  39545000.0\n",
       "QTQRJR 6011  35176600.0\n",
       "QTQKKK 6011  32160000.0\n",
       "MJNLMQ 5691  28905999.0\n",
       "...                 ...\n",
       "ELMC64 5691      9566.0\n",
       "VFCSSC 4511      9566.0\n",
       "2GYYYO 9311      9566.0\n",
       "ASGXCH 5941      9566.0\n",
       "E4BGYE 5211      9566.0\n",
       "\n",
       "[1853232 rows x 1 columns]"
      ]
     },
     "execution_count": 60,
     "metadata": {},
     "output_type": "execute_result"
    }
   ],
   "source": [
    "grouped_tr"
   ]
  },
  {
   "cell_type": "code",
   "execution_count": null,
   "metadata": {},
   "outputs": [],
   "source": [
    "\n",
    "_interests={}\n",
    "i=0\n",
    "for item in transactions['cnum'].unique()[:100000]:\n",
    "    _interests.update({item:list(grouped_tr.loc[item].index)[:3]})\n",
    "#     _interests.update({item:grouped_tr.loc[item].index[0]})\n",
    "    if(i%10000==0):\n",
    "        print(i)\n",
    "    i+=1\n"
   ]
  },
  {
   "cell_type": "code",
   "execution_count": null,
   "metadata": {},
   "outputs": [],
   "source": [
    "'''\n",
    "i=0\n",
    "for item in transactions['cnum'].unique()[100000:]:\n",
    "    _interests.update({item:list(grouped_tr.loc[item].index)[:3]})\n",
    "#     _interests.update({item:grouped_tr.loc[item].index[0]})\n",
    "    if(i%10000==0):\n",
    "        print(i)\n",
    "    i+=1\n",
    "\n",
    "'''"
   ]
  },
  {
   "cell_type": "code",
   "execution_count": null,
   "metadata": {},
   "outputs": [],
   "source": []
  },
  {
   "cell_type": "code",
   "execution_count": null,
   "metadata": {},
   "outputs": [],
   "source": [
    "full_clients['интерес_1']=none\n",
    "full_clients['интерес_2']=none\n",
    "full_clients['интерес_3']=none"
   ]
  },
  {
   "cell_type": "markdown",
   "metadata": {},
   "source": [
    "3. Импульсивность/стабильность\n",
    "\n"
   ]
  },
  {
   "cell_type": "code",
   "execution_count": 64,
   "metadata": {},
   "outputs": [],
   "source": [
    "grouped_tr2=transactions[['cnum','purchdate','amount']].groupby(['purchdate','amount']).sum()"
   ]
  },
  {
   "cell_type": "code",
   "execution_count": 66,
   "metadata": {},
   "outputs": [
    {
     "data": {
      "text/html": [
       "<div>\n",
       "<style scoped>\n",
       "    .dataframe tbody tr th:only-of-type {\n",
       "        vertical-align: middle;\n",
       "    }\n",
       "\n",
       "    .dataframe tbody tr th {\n",
       "        vertical-align: top;\n",
       "    }\n",
       "\n",
       "    .dataframe thead th {\n",
       "        text-align: right;\n",
       "    }\n",
       "</style>\n",
       "<table border=\"1\" class=\"dataframe\">\n",
       "  <thead>\n",
       "    <tr style=\"text-align: right;\">\n",
       "      <th></th>\n",
       "      <th></th>\n",
       "      <th>cnum</th>\n",
       "    </tr>\n",
       "    <tr>\n",
       "      <th>purchdate</th>\n",
       "      <th>amount</th>\n",
       "      <th></th>\n",
       "    </tr>\n",
       "  </thead>\n",
       "  <tbody>\n",
       "    <tr>\n",
       "      <td>2019-09-02 00:00:00</td>\n",
       "      <td>11990.0</td>\n",
       "      <td>JKQQJM</td>\n",
       "    </tr>\n",
       "    <tr>\n",
       "      <td>2019-09-03 00:00:00</td>\n",
       "      <td>12190.0</td>\n",
       "      <td>ELUXO0</td>\n",
       "    </tr>\n",
       "    <tr>\n",
       "      <td>2019-09-04 00:00:00</td>\n",
       "      <td>132000.0</td>\n",
       "      <td>QKTRMT</td>\n",
       "    </tr>\n",
       "    <tr>\n",
       "      <td rowspan=\"2\" valign=\"top\">2019-09-05 00:00:00</td>\n",
       "      <td>23200.0</td>\n",
       "      <td>EEZODQ</td>\n",
       "    </tr>\n",
       "    <tr>\n",
       "      <td>50000.0</td>\n",
       "      <td>EEIDFE</td>\n",
       "    </tr>\n",
       "  </tbody>\n",
       "</table>\n",
       "</div>"
      ],
      "text/plain": [
       "                                cnum\n",
       "purchdate           amount          \n",
       "2019-09-02 00:00:00 11990.0   JKQQJM\n",
       "2019-09-03 00:00:00 12190.0   ELUXO0\n",
       "2019-09-04 00:00:00 132000.0  QKTRMT\n",
       "2019-09-05 00:00:00 23200.0   EEZODQ\n",
       "                    50000.0   EEIDFE"
      ]
     },
     "execution_count": 66,
     "metadata": {},
     "output_type": "execute_result"
    }
   ],
   "source": [
    "grouped_tr2.head()"
   ]
  },
  {
   "cell_type": "code",
   "execution_count": 86,
   "metadata": {},
   "outputs": [
    {
     "name": "stdout",
     "output_type": "stream",
     "text": [
      "1.5435945889276\n",
      "4.988951966859915\n",
      "0.0\n",
      "0.0\n",
      "1.960956945788344\n",
      "0.9745675697022352\n",
      "0.0\n",
      "0.7928353807088866\n",
      "2.795846159744538\n",
      "3.016703343026194\n"
     ]
    }
   ],
   "source": [
    "_impulsivity={}\n",
    "\n",
    "for item in transactions['cnum'].unique()[:100]:\n",
    "    _impulsivity.update(item:np.std([x[1] for x in grouped_tr2[grouped_tr2['cnum']==item].index])/np.mean([x[1] for x in grouped_tr2[grouped_tr2['cnum']==item].index]))\n",
    "#     print(grouped_tr2[grouped_tr2['cnum']==item].index)\n",
    "#     print([x[1] for x in grouped_tr2[grouped_tr2['cnum']==item].index])\n",
    "#     print(np.std([x[1] for x in grouped_tr2[grouped_tr2['cnum']==item].index])/np.mean([x[1] for x in grouped_tr2[grouped_tr2['cnum']==item].index]))\n",
    "#     grouped_tr2[grouped_tr2['cnum']==item].xs('amount', level=1, drop_level=False)\n",
    "#     df.loc[(slice(None), slice('amount')), :]\n",
    "#     _impulsivity.update({item:np.std(list(grouped_tr2.loc[item]))})\n",
    "    \n",
    "#     _impulsivity.update(np.std(transactions[transactions['cnum']==item].index))\n",
    "    \n",
    "#     print(np.mean(list(transactions[transactions['cnum']==item].index)))\n"
   ]
  },
  {
   "cell_type": "markdown",
   "metadata": {},
   "source": [
    "4. Размер зп? дети?"
   ]
  },
  {
   "cell_type": "code",
   "execution_count": null,
   "metadata": {},
   "outputs": [],
   "source": [
    "'''\n",
    "\n",
    "\n",
    "'''"
   ]
  },
  {
   "cell_type": "code",
   "execution_count": null,
   "metadata": {},
   "outputs": [],
   "source": []
  },
  {
   "cell_type": "code",
   "execution_count": null,
   "metadata": {},
   "outputs": [],
   "source": []
  },
  {
   "cell_type": "markdown",
   "metadata": {},
   "source": [
    "5. Кластеризация возраст+зп"
   ]
  },
  {
   "cell_type": "code",
   "execution_count": null,
   "metadata": {},
   "outputs": [],
   "source": []
  },
  {
   "cell_type": "markdown",
   "metadata": {},
   "source": [
    "6. Разносторонний или нет"
   ]
  },
  {
   "cell_type": "code",
   "execution_count": 87,
   "metadata": {},
   "outputs": [],
   "source": [
    "clients_unique_stores=transactions.groupby('cnum')['mrchname'].nunique()\n",
    "customer_behavior=pd.concat([clients_unique_stores, clients_number_of_transactions], axis=1)\n",
    "tourism['Коэффициент_разносторонности']=customer_behavior['mrchname']/tourism['Строка']"
   ]
  },
  {
   "cell_type": "code",
   "execution_count": null,
   "metadata": {},
   "outputs": [],
   "source": []
  },
  {
   "cell_type": "code",
   "execution_count": null,
   "metadata": {},
   "outputs": [],
   "source": []
  },
  {
   "cell_type": "markdown",
   "metadata": {},
   "source": [
    "7. Кластеризация"
   ]
  },
  {
   "cell_type": "code",
   "execution_count": null,
   "metadata": {},
   "outputs": [],
   "source": [
    "'''\n",
    "Темперамент?\n",
    "возраст, сколько он тратит\n",
    "\n",
    "богатство, возраст\n",
    "№ 201115-255614\n",
    "\n",
    "'''"
   ]
  },
  {
   "cell_type": "code",
   "execution_count": 88,
   "metadata": {},
   "outputs": [],
   "source": [
    "transactions['строка']=1"
   ]
  },
  {
   "cell_type": "code",
   "execution_count": 89,
   "metadata": {},
   "outputs": [],
   "source": [
    "grouped_tr3=transactions[['cnum','amount','строка']].groupby(['cnum']).sum()"
   ]
  },
  {
   "cell_type": "code",
   "execution_count": 91,
   "metadata": {},
   "outputs": [],
   "source": [
    "grouped_tr3['Состоятельность']=grouped_tr3['amount']/grouped_tr3['строка']"
   ]
  },
  {
   "cell_type": "code",
   "execution_count": 92,
   "metadata": {},
   "outputs": [
    {
     "data": {
      "text/html": [
       "<div>\n",
       "<style scoped>\n",
       "    .dataframe tbody tr th:only-of-type {\n",
       "        vertical-align: middle;\n",
       "    }\n",
       "\n",
       "    .dataframe tbody tr th {\n",
       "        vertical-align: top;\n",
       "    }\n",
       "\n",
       "    .dataframe thead th {\n",
       "        text-align: right;\n",
       "    }\n",
       "</style>\n",
       "<table border=\"1\" class=\"dataframe\">\n",
       "  <thead>\n",
       "    <tr style=\"text-align: right;\">\n",
       "      <th></th>\n",
       "      <th>amount</th>\n",
       "      <th>строка</th>\n",
       "      <th>Состоятельность</th>\n",
       "    </tr>\n",
       "    <tr>\n",
       "      <th>cnum</th>\n",
       "      <th></th>\n",
       "      <th></th>\n",
       "      <th></th>\n",
       "    </tr>\n",
       "  </thead>\n",
       "  <tbody>\n",
       "    <tr>\n",
       "      <td>0CCCDO</td>\n",
       "      <td>165506.00</td>\n",
       "      <td>3</td>\n",
       "      <td>55168.666667</td>\n",
       "    </tr>\n",
       "    <tr>\n",
       "      <td>0CCCGC</td>\n",
       "      <td>36290.00</td>\n",
       "      <td>3</td>\n",
       "      <td>12096.666667</td>\n",
       "    </tr>\n",
       "    <tr>\n",
       "      <td>0CCCGG</td>\n",
       "      <td>88968.25</td>\n",
       "      <td>4</td>\n",
       "      <td>22242.062500</td>\n",
       "    </tr>\n",
       "    <tr>\n",
       "      <td>0CCCGO</td>\n",
       "      <td>82600.00</td>\n",
       "      <td>8</td>\n",
       "      <td>10325.000000</td>\n",
       "    </tr>\n",
       "    <tr>\n",
       "      <td>0CCCGS</td>\n",
       "      <td>415783.64</td>\n",
       "      <td>13</td>\n",
       "      <td>31983.356923</td>\n",
       "    </tr>\n",
       "  </tbody>\n",
       "</table>\n",
       "</div>"
      ],
      "text/plain": [
       "           amount  строка  Состоятельность\n",
       "cnum                                      \n",
       "0CCCDO  165506.00       3     55168.666667\n",
       "0CCCGC   36290.00       3     12096.666667\n",
       "0CCCGG   88968.25       4     22242.062500\n",
       "0CCCGO   82600.00       8     10325.000000\n",
       "0CCCGS  415783.64      13     31983.356923"
      ]
     },
     "execution_count": 92,
     "metadata": {},
     "output_type": "execute_result"
    }
   ],
   "source": [
    "grouped_tr3.head()"
   ]
  },
  {
   "cell_type": "code",
   "execution_count": 93,
   "metadata": {},
   "outputs": [],
   "source": [
    "full_clients=pd.merge(full_clients,grouped_tr3[['Состоятельность']],how='left',left_on='cnum_',right_index=True)"
   ]
  },
  {
   "cell_type": "code",
   "execution_count": 94,
   "metadata": {},
   "outputs": [
    {
     "data": {
      "text/html": [
       "<div>\n",
       "<style scoped>\n",
       "    .dataframe tbody tr th:only-of-type {\n",
       "        vertical-align: middle;\n",
       "    }\n",
       "\n",
       "    .dataframe tbody tr th {\n",
       "        vertical-align: top;\n",
       "    }\n",
       "\n",
       "    .dataframe thead th {\n",
       "        text-align: right;\n",
       "    }\n",
       "</style>\n",
       "<table border=\"1\" class=\"dataframe\">\n",
       "  <thead>\n",
       "    <tr style=\"text-align: right;\">\n",
       "      <th></th>\n",
       "      <th>cnum_</th>\n",
       "      <th>categorycode</th>\n",
       "      <th>gender</th>\n",
       "      <th>age</th>\n",
       "      <th>married_</th>\n",
       "      <th>residenttype</th>\n",
       "      <th>category</th>\n",
       "      <th>description</th>\n",
       "      <th>Коэффициент_туризма</th>\n",
       "      <th>Состоятельность</th>\n",
       "    </tr>\n",
       "  </thead>\n",
       "  <tbody>\n",
       "    <tr>\n",
       "      <td>0</td>\n",
       "      <td>0CCCDO</td>\n",
       "      <td>81</td>\n",
       "      <td>M</td>\n",
       "      <td>32</td>\n",
       "      <td>not_married</td>\n",
       "      <td>R</td>\n",
       "      <td>81</td>\n",
       "      <td>Affluent Banking payroll customer</td>\n",
       "      <td>0.333333</td>\n",
       "      <td>55168.666667</td>\n",
       "    </tr>\n",
       "    <tr>\n",
       "      <td>1</td>\n",
       "      <td>0CCCFO</td>\n",
       "      <td>70</td>\n",
       "      <td>F</td>\n",
       "      <td>42</td>\n",
       "      <td>not_married</td>\n",
       "      <td>R</td>\n",
       "      <td>70</td>\n",
       "      <td>Regular retail banking customer</td>\n",
       "      <td>NaN</td>\n",
       "      <td>NaN</td>\n",
       "    </tr>\n",
       "    <tr>\n",
       "      <td>2</td>\n",
       "      <td>0CCCGC</td>\n",
       "      <td>50</td>\n",
       "      <td>F</td>\n",
       "      <td>33</td>\n",
       "      <td>married</td>\n",
       "      <td>R</td>\n",
       "      <td>50</td>\n",
       "      <td>Corporate customer employee/ payroll scheme</td>\n",
       "      <td>1.000000</td>\n",
       "      <td>12096.666667</td>\n",
       "    </tr>\n",
       "    <tr>\n",
       "      <td>3</td>\n",
       "      <td>0CCCGG</td>\n",
       "      <td>70</td>\n",
       "      <td>M</td>\n",
       "      <td>58</td>\n",
       "      <td>not_married</td>\n",
       "      <td>R</td>\n",
       "      <td>70</td>\n",
       "      <td>Regular retail banking customer</td>\n",
       "      <td>0.500000</td>\n",
       "      <td>22242.062500</td>\n",
       "    </tr>\n",
       "    <tr>\n",
       "      <td>4</td>\n",
       "      <td>0CCCGO</td>\n",
       "      <td>60</td>\n",
       "      <td>M</td>\n",
       "      <td>38</td>\n",
       "      <td>married</td>\n",
       "      <td>R</td>\n",
       "      <td>60</td>\n",
       "      <td>RBA employees</td>\n",
       "      <td>0.125000</td>\n",
       "      <td>10325.000000</td>\n",
       "    </tr>\n",
       "  </tbody>\n",
       "</table>\n",
       "</div>"
      ],
      "text/plain": [
       "    cnum_  categorycode gender  age     married_ residenttype  category  \\\n",
       "0  0CCCDO            81      M   32  not_married            R        81   \n",
       "1  0CCCFO            70      F   42  not_married            R        70   \n",
       "2  0CCCGC            50      F   33      married            R        50   \n",
       "3  0CCCGG            70      M   58  not_married            R        70   \n",
       "4  0CCCGO            60      M   38      married            R        60   \n",
       "\n",
       "                                   description  Коэффициент_туризма  \\\n",
       "0            Affluent Banking payroll customer             0.333333   \n",
       "1              Regular retail banking customer                  NaN   \n",
       "2  Corporate customer employee/ payroll scheme             1.000000   \n",
       "3              Regular retail banking customer             0.500000   \n",
       "4                                RBA employees             0.125000   \n",
       "\n",
       "   Состоятельность  \n",
       "0     55168.666667  \n",
       "1              NaN  \n",
       "2     12096.666667  \n",
       "3     22242.062500  \n",
       "4     10325.000000  "
      ]
     },
     "execution_count": 94,
     "metadata": {},
     "output_type": "execute_result"
    }
   ],
   "source": [
    "full_clients.head()"
   ]
  },
  {
   "cell_type": "code",
   "execution_count": 95,
   "metadata": {},
   "outputs": [],
   "source": [
    "full_clients_for_cl=full_clients.notna()"
   ]
  },
  {
   "cell_type": "code",
   "execution_count": null,
   "metadata": {},
   "outputs": [],
   "source": [
    "corr = full_clients_for_cl.corr()\n",
    "corr.style.background_gradient(cmap='coolwarm')"
   ]
  },
  {
   "cell_type": "code",
   "execution_count": 97,
   "metadata": {},
   "outputs": [],
   "source": [
    "grouped_tr4=transactions[['cnum','строка']].groupby(['cnum']).sum()"
   ]
  },
  {
   "cell_type": "code",
   "execution_count": 98,
   "metadata": {},
   "outputs": [],
   "source": [
    "grouped_tr4.sort_values(by=['строка'],ascending=False,inplace=True)"
   ]
  },
  {
   "cell_type": "code",
   "execution_count": 101,
   "metadata": {},
   "outputs": [
    {
     "data": {
      "text/plain": [
       "['EERKDC',\n",
       " 'ELCBGE',\n",
       " 'EET9Q4',\n",
       " '8YFNOH',\n",
       " '0HXSDH',\n",
       " 'EL6MR2',\n",
       " 'EEVVH8',\n",
       " 'JRRMIR',\n",
       " 'MQPKMI',\n",
       " 'EL95FB',\n",
       " 'IMMJKR',\n",
       " 'EL80P2',\n",
       " 'TRNLNI',\n",
       " 'LLPTQL',\n",
       " 'QTQRJR',\n",
       " 'ELDTP7',\n",
       " 'ELFE5U',\n",
       " 'QHDNOY',\n",
       " 'EET6PH',\n",
       " 'E46NJV']"
      ]
     },
     "execution_count": 101,
     "metadata": {},
     "output_type": "execute_result"
    }
   ],
   "source": [
    "list(grouped_tr4.index)[:20]"
   ]
  },
  {
   "cell_type": "code",
   "execution_count": 102,
   "metadata": {},
   "outputs": [
    {
     "data": {
      "text/html": [
       "<div>\n",
       "<style scoped>\n",
       "    .dataframe tbody tr th:only-of-type {\n",
       "        vertical-align: middle;\n",
       "    }\n",
       "\n",
       "    .dataframe tbody tr th {\n",
       "        vertical-align: top;\n",
       "    }\n",
       "\n",
       "    .dataframe thead th {\n",
       "        text-align: right;\n",
       "    }\n",
       "</style>\n",
       "<table border=\"1\" class=\"dataframe\">\n",
       "  <thead>\n",
       "    <tr style=\"text-align: right;\">\n",
       "      <th></th>\n",
       "      <th>строка</th>\n",
       "    </tr>\n",
       "    <tr>\n",
       "      <th>cnum</th>\n",
       "      <th></th>\n",
       "    </tr>\n",
       "  </thead>\n",
       "  <tbody>\n",
       "    <tr>\n",
       "      <td>EERKDC</td>\n",
       "      <td>503</td>\n",
       "    </tr>\n",
       "    <tr>\n",
       "      <td>ELCBGE</td>\n",
       "      <td>483</td>\n",
       "    </tr>\n",
       "    <tr>\n",
       "      <td>EET9Q4</td>\n",
       "      <td>382</td>\n",
       "    </tr>\n",
       "    <tr>\n",
       "      <td>8YFNOH</td>\n",
       "      <td>361</td>\n",
       "    </tr>\n",
       "    <tr>\n",
       "      <td>0HXSDH</td>\n",
       "      <td>358</td>\n",
       "    </tr>\n",
       "  </tbody>\n",
       "</table>\n",
       "</div>"
      ],
      "text/plain": [
       "        строка\n",
       "cnum          \n",
       "EERKDC     503\n",
       "ELCBGE     483\n",
       "EET9Q4     382\n",
       "8YFNOH     361\n",
       "0HXSDH     358"
      ]
     },
     "execution_count": 102,
     "metadata": {},
     "output_type": "execute_result"
    }
   ],
   "source": [
    "grouped_tr4.head()"
   ]
  },
  {
   "cell_type": "code",
   "execution_count": 103,
   "metadata": {},
   "outputs": [
    {
     "data": {
      "text/plain": [
       "['E4FT88',\n",
       " 'E4FTAN',\n",
       " 'E4FYNM',\n",
       " 'E4FTAG',\n",
       " 'KNGFYH',\n",
       " '0XDDGD',\n",
       " 'E4FTA0',\n",
       " 'KNGNNG',\n",
       " 'EL5MRC',\n",
       " 'KNGHNG']"
      ]
     },
     "execution_count": 103,
     "metadata": {},
     "output_type": "execute_result"
    }
   ],
   "source": [
    "list(grouped_tr4[grouped_tr4['строка'].isin([1,2])].index)[:10]"
   ]
  },
  {
   "cell_type": "code",
   "execution_count": null,
   "metadata": {},
   "outputs": [],
   "source": []
  }
 ],
 "metadata": {
  "kernelspec": {
   "display_name": "Python 3",
   "language": "python",
   "name": "python3"
  },
  "language_info": {
   "codemirror_mode": {
    "name": "ipython",
    "version": 3
   },
   "file_extension": ".py",
   "mimetype": "text/x-python",
   "name": "python",
   "nbconvert_exporter": "python",
   "pygments_lexer": "ipython3",
   "version": "3.7.4"
  }
 },
 "nbformat": 4,
 "nbformat_minor": 2
}
