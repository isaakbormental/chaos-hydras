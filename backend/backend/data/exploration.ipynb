{
 "cells": [
  {
   "cell_type": "code",
   "execution_count": 33,
   "metadata": {},
   "outputs": [],
   "source": [
    "import pandas as pd\n",
    "import matplotlib.pyplot as plt\n",
    "%matplotlib inline"
   ]
  },
  {
   "cell_type": "code",
   "execution_count": 19,
   "metadata": {},
   "outputs": [],
   "source": [
    "pd.set_option('display.max_rows', 1000)"
   ]
  },
  {
   "cell_type": "code",
   "execution_count": 2,
   "metadata": {},
   "outputs": [],
   "source": [
    "client_categories=pd.read_csv('docs/client_categories.csv',sep=';')"
   ]
  },
  {
   "cell_type": "code",
   "execution_count": 3,
   "metadata": {},
   "outputs": [
    {
     "data": {
      "text/html": [
       "<div>\n",
       "<style scoped>\n",
       "    .dataframe tbody tr th:only-of-type {\n",
       "        vertical-align: middle;\n",
       "    }\n",
       "\n",
       "    .dataframe tbody tr th {\n",
       "        vertical-align: top;\n",
       "    }\n",
       "\n",
       "    .dataframe thead th {\n",
       "        text-align: right;\n",
       "    }\n",
       "</style>\n",
       "<table border=\"1\" class=\"dataframe\">\n",
       "  <thead>\n",
       "    <tr style=\"text-align: right;\">\n",
       "      <th></th>\n",
       "      <th>category</th>\n",
       "      <th>description</th>\n",
       "    </tr>\n",
       "  </thead>\n",
       "  <tbody>\n",
       "    <tr>\n",
       "      <td>0</td>\n",
       "      <td>10</td>\n",
       "      <td>VIP/ Management recommendations</td>\n",
       "    </tr>\n",
       "    <tr>\n",
       "      <td>1</td>\n",
       "      <td>11</td>\n",
       "      <td>VIP/ Management recommendations (family)</td>\n",
       "    </tr>\n",
       "    <tr>\n",
       "      <td>2</td>\n",
       "      <td>17</td>\n",
       "      <td>Private Banking customers walk-in</td>\n",
       "    </tr>\n",
       "    <tr>\n",
       "      <td>3</td>\n",
       "      <td>18</td>\n",
       "      <td>Private banking customers payroll</td>\n",
       "    </tr>\n",
       "    <tr>\n",
       "      <td>4</td>\n",
       "      <td>20</td>\n",
       "      <td>High income individuals</td>\n",
       "    </tr>\n",
       "  </tbody>\n",
       "</table>\n",
       "</div>"
      ],
      "text/plain": [
       "   category                               description\n",
       "0        10           VIP/ Management recommendations\n",
       "1        11  VIP/ Management recommendations (family)\n",
       "2        17         Private Banking customers walk-in\n",
       "3        18         Private banking customers payroll\n",
       "4        20                   High income individuals"
      ]
     },
     "execution_count": 3,
     "metadata": {},
     "output_type": "execute_result"
    }
   ],
   "source": [
    "client_categories.head()"
   ]
  },
  {
   "cell_type": "code",
   "execution_count": 4,
   "metadata": {},
   "outputs": [],
   "source": [
    "clients=pd.read_csv('docs/clients_last_2_fixed.csv', sep=';')"
   ]
  },
  {
   "cell_type": "code",
   "execution_count": 5,
   "metadata": {},
   "outputs": [
    {
     "data": {
      "text/html": [
       "<div>\n",
       "<style scoped>\n",
       "    .dataframe tbody tr th:only-of-type {\n",
       "        vertical-align: middle;\n",
       "    }\n",
       "\n",
       "    .dataframe tbody tr th {\n",
       "        vertical-align: top;\n",
       "    }\n",
       "\n",
       "    .dataframe thead th {\n",
       "        text-align: right;\n",
       "    }\n",
       "</style>\n",
       "<table border=\"1\" class=\"dataframe\">\n",
       "  <thead>\n",
       "    <tr style=\"text-align: right;\">\n",
       "      <th></th>\n",
       "      <th>cnum_</th>\n",
       "      <th>categorycode</th>\n",
       "      <th>gender</th>\n",
       "      <th>age</th>\n",
       "      <th>married_</th>\n",
       "      <th>residenttype</th>\n",
       "    </tr>\n",
       "  </thead>\n",
       "  <tbody>\n",
       "    <tr>\n",
       "      <td>0</td>\n",
       "      <td>0CCCDO</td>\n",
       "      <td>81</td>\n",
       "      <td>M</td>\n",
       "      <td>32</td>\n",
       "      <td>not_married</td>\n",
       "      <td>R</td>\n",
       "    </tr>\n",
       "    <tr>\n",
       "      <td>1</td>\n",
       "      <td>0CCCFO</td>\n",
       "      <td>70</td>\n",
       "      <td>F</td>\n",
       "      <td>42</td>\n",
       "      <td>not_married</td>\n",
       "      <td>R</td>\n",
       "    </tr>\n",
       "    <tr>\n",
       "      <td>2</td>\n",
       "      <td>0CCCGC</td>\n",
       "      <td>50</td>\n",
       "      <td>F</td>\n",
       "      <td>33</td>\n",
       "      <td>married</td>\n",
       "      <td>R</td>\n",
       "    </tr>\n",
       "    <tr>\n",
       "      <td>3</td>\n",
       "      <td>0CCCGG</td>\n",
       "      <td>70</td>\n",
       "      <td>M</td>\n",
       "      <td>58</td>\n",
       "      <td>not_married</td>\n",
       "      <td>R</td>\n",
       "    </tr>\n",
       "    <tr>\n",
       "      <td>4</td>\n",
       "      <td>0CCCGO</td>\n",
       "      <td>60</td>\n",
       "      <td>M</td>\n",
       "      <td>38</td>\n",
       "      <td>married</td>\n",
       "      <td>R</td>\n",
       "    </tr>\n",
       "  </tbody>\n",
       "</table>\n",
       "</div>"
      ],
      "text/plain": [
       "    cnum_  categorycode gender  age     married_ residenttype\n",
       "0  0CCCDO            81      M   32  not_married            R\n",
       "1  0CCCFO            70      F   42  not_married            R\n",
       "2  0CCCGC            50      F   33      married            R\n",
       "3  0CCCGG            70      M   58  not_married            R\n",
       "4  0CCCGO            60      M   38      married            R"
      ]
     },
     "execution_count": 5,
     "metadata": {},
     "output_type": "execute_result"
    }
   ],
   "source": [
    "clients.head()"
   ]
  },
  {
   "cell_type": "code",
   "execution_count": 11,
   "metadata": {},
   "outputs": [],
   "source": [
    "full_clients=pd.merge(clients,client_categories,how='left',left_on='categorycode',right_on='category')"
   ]
  },
  {
   "cell_type": "code",
   "execution_count": 14,
   "metadata": {},
   "outputs": [
    {
     "data": {
      "text/html": [
       "<div>\n",
       "<style scoped>\n",
       "    .dataframe tbody tr th:only-of-type {\n",
       "        vertical-align: middle;\n",
       "    }\n",
       "\n",
       "    .dataframe tbody tr th {\n",
       "        vertical-align: top;\n",
       "    }\n",
       "\n",
       "    .dataframe thead th {\n",
       "        text-align: right;\n",
       "    }\n",
       "</style>\n",
       "<table border=\"1\" class=\"dataframe\">\n",
       "  <thead>\n",
       "    <tr style=\"text-align: right;\">\n",
       "      <th></th>\n",
       "      <th>cnum_</th>\n",
       "      <th>categorycode</th>\n",
       "      <th>gender</th>\n",
       "      <th>age</th>\n",
       "      <th>married_</th>\n",
       "      <th>residenttype</th>\n",
       "      <th>category</th>\n",
       "      <th>description</th>\n",
       "    </tr>\n",
       "  </thead>\n",
       "  <tbody>\n",
       "    <tr>\n",
       "      <td>0</td>\n",
       "      <td>0CCCDO</td>\n",
       "      <td>81</td>\n",
       "      <td>M</td>\n",
       "      <td>32</td>\n",
       "      <td>not_married</td>\n",
       "      <td>R</td>\n",
       "      <td>81</td>\n",
       "      <td>Affluent Banking payroll customer</td>\n",
       "    </tr>\n",
       "    <tr>\n",
       "      <td>1</td>\n",
       "      <td>0CCCFO</td>\n",
       "      <td>70</td>\n",
       "      <td>F</td>\n",
       "      <td>42</td>\n",
       "      <td>not_married</td>\n",
       "      <td>R</td>\n",
       "      <td>70</td>\n",
       "      <td>Regular retail banking customer</td>\n",
       "    </tr>\n",
       "    <tr>\n",
       "      <td>2</td>\n",
       "      <td>0CCCGC</td>\n",
       "      <td>50</td>\n",
       "      <td>F</td>\n",
       "      <td>33</td>\n",
       "      <td>married</td>\n",
       "      <td>R</td>\n",
       "      <td>50</td>\n",
       "      <td>Corporate customer employee/ payroll scheme</td>\n",
       "    </tr>\n",
       "    <tr>\n",
       "      <td>3</td>\n",
       "      <td>0CCCGG</td>\n",
       "      <td>70</td>\n",
       "      <td>M</td>\n",
       "      <td>58</td>\n",
       "      <td>not_married</td>\n",
       "      <td>R</td>\n",
       "      <td>70</td>\n",
       "      <td>Regular retail banking customer</td>\n",
       "    </tr>\n",
       "    <tr>\n",
       "      <td>4</td>\n",
       "      <td>0CCCGO</td>\n",
       "      <td>60</td>\n",
       "      <td>M</td>\n",
       "      <td>38</td>\n",
       "      <td>married</td>\n",
       "      <td>R</td>\n",
       "      <td>60</td>\n",
       "      <td>RBA employees</td>\n",
       "    </tr>\n",
       "  </tbody>\n",
       "</table>\n",
       "</div>"
      ],
      "text/plain": [
       "    cnum_  categorycode gender  age     married_ residenttype  category  \\\n",
       "0  0CCCDO            81      M   32  not_married            R        81   \n",
       "1  0CCCFO            70      F   42  not_married            R        70   \n",
       "2  0CCCGC            50      F   33      married            R        50   \n",
       "3  0CCCGG            70      M   58  not_married            R        70   \n",
       "4  0CCCGO            60      M   38      married            R        60   \n",
       "\n",
       "                                   description  \n",
       "0            Affluent Banking payroll customer  \n",
       "1              Regular retail banking customer  \n",
       "2  Corporate customer employee/ payroll scheme  \n",
       "3              Regular retail banking customer  \n",
       "4                                RBA employees  "
      ]
     },
     "execution_count": 14,
     "metadata": {},
     "output_type": "execute_result"
    }
   ],
   "source": [
    "full_clients.head(5)"
   ]
  },
  {
   "cell_type": "code",
   "execution_count": 6,
   "metadata": {},
   "outputs": [
    {
     "data": {
      "text/plain": [
       "array(['R', 'N'], dtype=object)"
      ]
     },
     "execution_count": 6,
     "metadata": {},
     "output_type": "execute_result"
    }
   ],
   "source": [
    "clients['residenttype'].unique()"
   ]
  },
  {
   "cell_type": "code",
   "execution_count": 7,
   "metadata": {},
   "outputs": [],
   "source": [
    "stores=pd.read_csv('docs/store_last_2.csv', error_bad_lines=False,encoding= 'windows-1251',sep=';')"
   ]
  },
  {
   "cell_type": "code",
   "execution_count": 8,
   "metadata": {},
   "outputs": [
    {
     "data": {
      "text/html": [
       "<div>\n",
       "<style scoped>\n",
       "    .dataframe tbody tr th:only-of-type {\n",
       "        vertical-align: middle;\n",
       "    }\n",
       "\n",
       "    .dataframe tbody tr th {\n",
       "        vertical-align: top;\n",
       "    }\n",
       "\n",
       "    .dataframe thead th {\n",
       "        text-align: right;\n",
       "    }\n",
       "</style>\n",
       "<table border=\"1\" class=\"dataframe\">\n",
       "  <thead>\n",
       "    <tr style=\"text-align: right;\">\n",
       "      <th></th>\n",
       "      <th>store_name</th>\n",
       "      <th>merchant_name</th>\n",
       "    </tr>\n",
       "  </thead>\n",
       "  <tbody>\n",
       "    <tr>\n",
       "      <td>0</td>\n",
       "      <td>Банкомат</td>\n",
       "      <td>VVVVVVVVVVVVSG/W7J4K 07ZL</td>\n",
       "    </tr>\n",
       "    <tr>\n",
       "      <td>1</td>\n",
       "      <td>Киви</td>\n",
       "      <td>VVVVVVVVVVVVR4U4 CXD1O</td>\n",
       "    </tr>\n",
       "    <tr>\n",
       "      <td>2</td>\n",
       "      <td>Банкомат</td>\n",
       "      <td>VVVVVVVVVVV/078 WXWLH7J K</td>\n",
       "    </tr>\n",
       "    <tr>\n",
       "      <td>3</td>\n",
       "      <td>Банкомат</td>\n",
       "      <td>VVVVVVVVVVV/08 7JJ4T7H AK</td>\n",
       "    </tr>\n",
       "    <tr>\n",
       "      <td>4</td>\n",
       "      <td>Банкомат</td>\n",
       "      <td>VVVVVVVVVVV1SV6</td>\n",
       "    </tr>\n",
       "  </tbody>\n",
       "</table>\n",
       "</div>"
      ],
      "text/plain": [
       "  store_name              merchant_name\n",
       "0   Банкомат  VVVVVVVVVVVVSG/W7J4K 07ZL\n",
       "1       Киви     VVVVVVVVVVVVR4U4 CXD1O\n",
       "2   Банкомат  VVVVVVVVVVV/078 WXWLH7J K\n",
       "3   Банкомат  VVVVVVVVVVV/08 7JJ4T7H AK\n",
       "4   Банкомат            VVVVVVVVVVV1SV6"
      ]
     },
     "execution_count": 8,
     "metadata": {},
     "output_type": "execute_result"
    }
   ],
   "source": [
    "stores.head()"
   ]
  },
  {
   "cell_type": "code",
   "execution_count": 13,
   "metadata": {},
   "outputs": [],
   "source": [
    "transactions=pd.read_csv('docs/transactions_last_2.csv',encoding= 'windows-1251',sep=';',nrows=1000000)"
   ]
  },
  {
   "cell_type": "code",
   "execution_count": 16,
   "metadata": {},
   "outputs": [
    {
     "data": {
      "text/html": [
       "<div>\n",
       "<style scoped>\n",
       "    .dataframe tbody tr th:only-of-type {\n",
       "        vertical-align: middle;\n",
       "    }\n",
       "\n",
       "    .dataframe tbody tr th {\n",
       "        vertical-align: top;\n",
       "    }\n",
       "\n",
       "    .dataframe thead th {\n",
       "        text-align: right;\n",
       "    }\n",
       "</style>\n",
       "<table border=\"1\" class=\"dataframe\">\n",
       "  <thead>\n",
       "    <tr style=\"text-align: right;\">\n",
       "      <th></th>\n",
       "      <th>purchdate</th>\n",
       "      <th>amount</th>\n",
       "      <th>mcc</th>\n",
       "      <th>mrchcity</th>\n",
       "      <th>mrchname</th>\n",
       "      <th>cnum</th>\n",
       "    </tr>\n",
       "  </thead>\n",
       "  <tbody>\n",
       "    <tr>\n",
       "      <td>0</td>\n",
       "      <td>2019-11-02 00:00:00</td>\n",
       "      <td>9000000.0</td>\n",
       "      <td>5691</td>\n",
       "      <td>MOSCOW</td>\n",
       "      <td>IA7D1H Z1D1T7</td>\n",
       "      <td>MJNLMQ</td>\n",
       "    </tr>\n",
       "    <tr>\n",
       "      <td>1</td>\n",
       "      <td>2019-11-02 00:00:00</td>\n",
       "      <td>9000000.0</td>\n",
       "      <td>5691</td>\n",
       "      <td>MOSCOW</td>\n",
       "      <td>IA7D1H Z1D1T7</td>\n",
       "      <td>MJNLMQ</td>\n",
       "    </tr>\n",
       "    <tr>\n",
       "      <td>2</td>\n",
       "      <td>2019-10-25 00:00:00</td>\n",
       "      <td>7716900.0</td>\n",
       "      <td>5691</td>\n",
       "      <td>MOSCOW</td>\n",
       "      <td>HXL4K TL4EEXD</td>\n",
       "      <td>ELETCO</td>\n",
       "    </tr>\n",
       "    <tr>\n",
       "      <td>3</td>\n",
       "      <td>2019-11-29 00:00:00</td>\n",
       "      <td>5100000.0</td>\n",
       "      <td>6513</td>\n",
       "      <td>SANKT-PETERBU</td>\n",
       "      <td>7X 1E7HXD H1DKW1IKCL</td>\n",
       "      <td>EL0KSF</td>\n",
       "    </tr>\n",
       "    <tr>\n",
       "      <td>4</td>\n",
       "      <td>2019-12-03 00:00:00</td>\n",
       "      <td>5023956.6</td>\n",
       "      <td>5944</td>\n",
       "      <td>MOSKVA</td>\n",
       "      <td>73 7HJXK7 (W7X)</td>\n",
       "      <td>MPKIJJ</td>\n",
       "    </tr>\n",
       "    <tr>\n",
       "      <td>...</td>\n",
       "      <td>...</td>\n",
       "      <td>...</td>\n",
       "      <td>...</td>\n",
       "      <td>...</td>\n",
       "      <td>...</td>\n",
       "      <td>...</td>\n",
       "    </tr>\n",
       "    <tr>\n",
       "      <td>95</td>\n",
       "      <td>2019-11-27 00:00:00</td>\n",
       "      <td>1659818.0</td>\n",
       "      <td>9311</td>\n",
       "      <td>MOSCOW</td>\n",
       "      <td>D7HXZ.JL</td>\n",
       "      <td>TIJRRQ</td>\n",
       "    </tr>\n",
       "    <tr>\n",
       "      <td>96</td>\n",
       "      <td>2019-12-15 00:00:00</td>\n",
       "      <td>1653000.0</td>\n",
       "      <td>5511</td>\n",
       "      <td>MOSRENTGEN P,</td>\n",
       "      <td>XXX 4DIA314W AXH84DZ</td>\n",
       "      <td>ECNYFO</td>\n",
       "    </tr>\n",
       "    <tr>\n",
       "      <td>97</td>\n",
       "      <td>2019-10-09 00:00:00</td>\n",
       "      <td>1650000.0</td>\n",
       "      <td>8398</td>\n",
       "      <td>MOSKVA</td>\n",
       "      <td>9XD8 9XJX0J</td>\n",
       "      <td>ELG526</td>\n",
       "    </tr>\n",
       "    <tr>\n",
       "      <td>98</td>\n",
       "      <td>2019-12-03 00:00:00</td>\n",
       "      <td>1641300.0</td>\n",
       "      <td>9311</td>\n",
       "      <td>MOSCOW</td>\n",
       "      <td>D7HXZ.JL</td>\n",
       "      <td>MNILQT</td>\n",
       "    </tr>\n",
       "    <tr>\n",
       "      <td>99</td>\n",
       "      <td>2019-10-26 00:00:00</td>\n",
       "      <td>1640000.0</td>\n",
       "      <td>5511</td>\n",
       "      <td>MOSCOW</td>\n",
       "      <td>EXOXE7B-7-CCIKE.0</td>\n",
       "      <td>NKMTRJ</td>\n",
       "    </tr>\n",
       "  </tbody>\n",
       "</table>\n",
       "<p>100 rows × 6 columns</p>\n",
       "</div>"
      ],
      "text/plain": [
       "              purchdate     amount   mcc       mrchcity              mrchname  \\\n",
       "0   2019-11-02 00:00:00  9000000.0  5691         MOSCOW         IA7D1H Z1D1T7   \n",
       "1   2019-11-02 00:00:00  9000000.0  5691         MOSCOW         IA7D1H Z1D1T7   \n",
       "2   2019-10-25 00:00:00  7716900.0  5691         MOSCOW         HXL4K TL4EEXD   \n",
       "3   2019-11-29 00:00:00  5100000.0  6513  SANKT-PETERBU  7X 1E7HXD H1DKW1IKCL   \n",
       "4   2019-12-03 00:00:00  5023956.6  5944         MOSKVA       73 7HJXK7 (W7X)   \n",
       "..                  ...        ...   ...            ...                   ...   \n",
       "95  2019-11-27 00:00:00  1659818.0  9311         MOSCOW              D7HXZ.JL   \n",
       "96  2019-12-15 00:00:00  1653000.0  5511  MOSRENTGEN P,  XXX 4DIA314W AXH84DZ   \n",
       "97  2019-10-09 00:00:00  1650000.0  8398         MOSKVA           9XD8 9XJX0J   \n",
       "98  2019-12-03 00:00:00  1641300.0  9311         MOSCOW              D7HXZ.JL   \n",
       "99  2019-10-26 00:00:00  1640000.0  5511         MOSCOW     EXOXE7B-7-CCIKE.0   \n",
       "\n",
       "      cnum  \n",
       "0   MJNLMQ  \n",
       "1   MJNLMQ  \n",
       "2   ELETCO  \n",
       "3   EL0KSF  \n",
       "4   MPKIJJ  \n",
       "..     ...  \n",
       "95  TIJRRQ  \n",
       "96  ECNYFO  \n",
       "97  ELG526  \n",
       "98  MNILQT  \n",
       "99  NKMTRJ  \n",
       "\n",
       "[100 rows x 6 columns]"
      ]
     },
     "execution_count": 16,
     "metadata": {},
     "output_type": "execute_result"
    }
   ],
   "source": [
    "transactions.head(100)"
   ]
  },
  {
   "cell_type": "code",
   "execution_count": null,
   "metadata": {},
   "outputs": [],
   "source": []
  },
  {
   "cell_type": "code",
   "execution_count": 15,
   "metadata": {},
   "outputs": [
    {
     "data": {
      "text/plain": [
       "1355925"
      ]
     },
     "execution_count": 15,
     "metadata": {},
     "output_type": "execute_result"
    }
   ],
   "source": [
    "len(clients)"
   ]
  },
  {
   "cell_type": "code",
   "execution_count": null,
   "metadata": {},
   "outputs": [],
   "source": [
    "'''\n",
    "Классификация по признакам\n",
    "\n",
    "Кластеризация клиентов\n",
    "\n",
    "дизайн карточки клиента\n",
    "\n",
    "какие категории клиентов просто выделить?\n",
    "\n",
    "богатство - бедность\n",
    "\n",
    "у каждого клиента - количество транзакций и количество\n",
    "'''"
   ]
  },
  {
   "cell_type": "code",
   "execution_count": 22,
   "metadata": {},
   "outputs": [],
   "source": [
    "transactions['Строка']=1"
   ]
  },
  {
   "cell_type": "code",
   "execution_count": null,
   "metadata": {},
   "outputs": [],
   "source": [
    "transactions[['cnum','mrchcity']].groupby"
   ]
  },
  {
   "cell_type": "code",
   "execution_count": 24,
   "metadata": {},
   "outputs": [],
   "source": [
    "clients_unique_cities=transactions.groupby('cnum')['mrchcity'].nunique()"
   ]
  },
  {
   "cell_type": "code",
   "execution_count": 25,
   "metadata": {},
   "outputs": [],
   "source": [
    "clients_number_of_transactions=transactions.groupby('cnum')['Строка'].sum()"
   ]
  },
  {
   "cell_type": "code",
   "execution_count": 28,
   "metadata": {},
   "outputs": [
    {
     "data": {
      "text/plain": [
       "<matplotlib.axes._subplots.AxesSubplot at 0x18b8313d888>"
      ]
     },
     "execution_count": 28,
     "metadata": {},
     "output_type": "execute_result"
    },
    {
     "data": {
      "image/png": "[encoded data removed]",
      "text/plain": [
       "<Figure size 432x288 with 1 Axes>"
      ]
     },
     "metadata": {
      "needs_background": "light"
     },
     "output_type": "display_data"
    }
   ],
   "source": [
    "clients_unique_cities.hist()"
   ]
  },
  {
   "cell_type": "code",
   "execution_count": 32,
   "metadata": {},
   "outputs": [
    {
     "data": {
      "text/plain": [
       "<matplotlib.axes._subplots.AxesSubplot at 0x18b846d49c8>"
      ]
     },
     "execution_count": 32,
     "metadata": {},
     "output_type": "execute_result"
    },
    {
     "data": {
      "image/png": "[encoded data removed]",
      "text/plain": [
       "<Figure size 432x288 with 1 Axes>"
      ]
     },
     "metadata": {
      "needs_background": "light"
     },
     "output_type": "display_data"
    }
   ],
   "source": [
    "clients_number_of_transactions.hist()"
   ]
  },
  {
   "cell_type": "code",
   "execution_count": 35,
   "metadata": {},
   "outputs": [
    {
     "data": {
      "text/plain": [
       "(array([122438.,  56004.,  33482.,  20472.,  14162.,  10915.]),\n",
       " array([0.5, 1.5, 2.5, 3.5, 4.5, 5.5, 6.5]),\n",
       " <a list of 6 Patch objects>)"
      ]
     },
     "execution_count": 35,
     "metadata": {},
     "output_type": "execute_result"
    },
    {
     "data": {
      "image/png": "[encoded data removed]",
      "text/plain": [
       "<Figure size 432x288 with 1 Axes>"
      ]
     },
     "metadata": {
      "needs_background": "light"
     },
     "output_type": "display_data"
    }
   ],
   "source": [
    "plt.hist(clients_number_of_transactions, bins=[0.5, 1.5, 2.5, 3.5, 4.5, 5.5, 6.5])"
   ]
  },
  {
   "cell_type": "code",
   "execution_count": 36,
   "metadata": {},
   "outputs": [
    {
     "data": {
      "text/plain": [
       "cnum\n",
       "0CCCDO    1\n",
       "0CCCGS    2\n",
       "0CCCHS    3\n",
       "0CCCOO    1\n",
       "0CCCOS    1\n",
       "Name: mrchcity, dtype: int64"
      ]
     },
     "execution_count": 36,
     "metadata": {},
     "output_type": "execute_result"
    }
   ],
   "source": [
    "clients_unique_cities.head()"
   ]
  },
  {
   "cell_type": "code",
   "execution_count": 37,
   "metadata": {},
   "outputs": [
    {
     "data": {
      "text/plain": [
       "cnum\n",
       "0CCCDO     2\n",
       "0CCCGS     3\n",
       "0CCCHS    26\n",
       "0CCCOO     6\n",
       "0CCCOS     1\n",
       "Name: Строка, dtype: int64"
      ]
     },
     "execution_count": 37,
     "metadata": {},
     "output_type": "execute_result"
    }
   ],
   "source": [
    "clients_number_of_transactions.head()"
   ]
  },
  {
   "cell_type": "code",
   "execution_count": 38,
   "metadata": {},
   "outputs": [],
   "source": [
    "tourism=pd.concat([clients_unique_cities, clients_number_of_transactions], axis=1)"
   ]
  },
  {
   "cell_type": "code",
   "execution_count": 39,
   "metadata": {},
   "outputs": [
    {
     "data": {
      "text/html": [
       "<div>\n",
       "<style scoped>\n",
       "    .dataframe tbody tr th:only-of-type {\n",
       "        vertical-align: middle;\n",
       "    }\n",
       "\n",
       "    .dataframe tbody tr th {\n",
       "        vertical-align: top;\n",
       "    }\n",
       "\n",
       "    .dataframe thead th {\n",
       "        text-align: right;\n",
       "    }\n",
       "</style>\n",
       "<table border=\"1\" class=\"dataframe\">\n",
       "  <thead>\n",
       "    <tr style=\"text-align: right;\">\n",
       "      <th></th>\n",
       "      <th>mrchcity</th>\n",
       "      <th>Строка</th>\n",
       "    </tr>\n",
       "    <tr>\n",
       "      <th>cnum</th>\n",
       "      <th></th>\n",
       "      <th></th>\n",
       "    </tr>\n",
       "  </thead>\n",
       "  <tbody>\n",
       "    <tr>\n",
       "      <td>0CCCDO</td>\n",
       "      <td>1</td>\n",
       "      <td>2</td>\n",
       "    </tr>\n",
       "    <tr>\n",
       "      <td>0CCCGS</td>\n",
       "      <td>2</td>\n",
       "      <td>3</td>\n",
       "    </tr>\n",
       "    <tr>\n",
       "      <td>0CCCHS</td>\n",
       "      <td>3</td>\n",
       "      <td>26</td>\n",
       "    </tr>\n",
       "    <tr>\n",
       "      <td>0CCCOO</td>\n",
       "      <td>1</td>\n",
       "      <td>6</td>\n",
       "    </tr>\n",
       "    <tr>\n",
       "      <td>0CCCOS</td>\n",
       "      <td>1</td>\n",
       "      <td>1</td>\n",
       "    </tr>\n",
       "  </tbody>\n",
       "</table>\n",
       "</div>"
      ],
      "text/plain": [
       "        mrchcity  Строка\n",
       "cnum                    \n",
       "0CCCDO         1       2\n",
       "0CCCGS         2       3\n",
       "0CCCHS         3      26\n",
       "0CCCOO         1       6\n",
       "0CCCOS         1       1"
      ]
     },
     "execution_count": 39,
     "metadata": {},
     "output_type": "execute_result"
    }
   ],
   "source": [
    "tourism.head()"
   ]
  },
  {
   "cell_type": "code",
   "execution_count": 40,
   "metadata": {},
   "outputs": [],
   "source": [
    "tourism['Коэффициент_туризма']=tourism['mrchcity']/tourism['Строка']"
   ]
  },
  {
   "cell_type": "code",
   "execution_count": 43,
   "metadata": {},
   "outputs": [],
   "source": [
    "full_clients=pd.merge(full_clients,tourism[['Коэффициент_туризма']],how='left',left_on='cnum_',right_index=True)"
   ]
  },
  {
   "cell_type": "code",
   "execution_count": 45,
   "metadata": {},
   "outputs": [
    {
     "data": {
      "text/plain": [
       "0.6842241415276483"
      ]
     },
     "execution_count": 45,
     "metadata": {},
     "output_type": "execute_result"
    }
   ],
   "source": [
    "full_clients['Коэффициент_туризма'].mean()"
   ]
  },
  {
   "cell_type": "code",
   "execution_count": 46,
   "metadata": {},
   "outputs": [],
   "source": [
    "full_clients['Коэффициент_туризма'].fillna(0.68,inplace=True)"
   ]
  },
  {
   "cell_type": "code",
   "execution_count": 93,
   "metadata": {},
   "outputs": [
    {
     "data": {
      "text/html": [
       "<div>\n",
       "<style scoped>\n",
       "    .dataframe tbody tr th:only-of-type {\n",
       "        vertical-align: middle;\n",
       "    }\n",
       "\n",
       "    .dataframe tbody tr th {\n",
       "        vertical-align: top;\n",
       "    }\n",
       "\n",
       "    .dataframe thead th {\n",
       "        text-align: right;\n",
       "    }\n",
       "</style>\n",
       "<table border=\"1\" class=\"dataframe\">\n",
       "  <thead>\n",
       "    <tr style=\"text-align: right;\">\n",
       "      <th></th>\n",
       "      <th>cnum_</th>\n",
       "      <th>Склонность к путешествиям</th>\n",
       "      <th>Категория</th>\n",
       "    </tr>\n",
       "  </thead>\n",
       "  <tbody>\n",
       "    <tr>\n",
       "      <td>250315</td>\n",
       "      <td>E48PLG</td>\n",
       "      <td>Слон</td>\n",
       "      <td>Холостяки</td>\n",
       "    </tr>\n",
       "    <tr>\n",
       "      <td>112369</td>\n",
       "      <td>8ELDGF</td>\n",
       "      <td>Дендройд</td>\n",
       "      <td>Приезжие</td>\n",
       "    </tr>\n",
       "    <tr>\n",
       "      <td>374682</td>\n",
       "      <td>E4HK4I</td>\n",
       "      <td>Лягушка-путешественница</td>\n",
       "      <td>Независимые</td>\n",
       "    </tr>\n",
       "    <tr>\n",
       "      <td>699094</td>\n",
       "      <td>EL0YOI</td>\n",
       "      <td>Слон</td>\n",
       "      <td>Семейные</td>\n",
       "    </tr>\n",
       "    <tr>\n",
       "      <td>120234</td>\n",
       "      <td>8ELVLQ</td>\n",
       "      <td>Лягушка-путешественница</td>\n",
       "      <td>Приезжие</td>\n",
       "    </tr>\n",
       "  </tbody>\n",
       "</table>\n",
       "</div>"
      ],
      "text/plain": [
       "         cnum_ Склонность к путешествиям    Категория\n",
       "250315  E48PLG                      Слон    Холостяки\n",
       "112369  8ELDGF                  Дендройд     Приезжие\n",
       "374682  E4HK4I   Лягушка-путешественница  Независимые\n",
       "699094  EL0YOI                      Слон     Семейные\n",
       "120234  8ELVLQ   Лягушка-путешественница     Приезжие"
      ]
     },
     "execution_count": 93,
     "metadata": {},
     "output_type": "execute_result"
    }
   ],
   "source": [
    "full_clients[['cnum_','Склонность к путешествиям','Категория']].sample(5)"
   ]
  },
  {
   "cell_type": "code",
   "execution_count": 50,
   "metadata": {},
   "outputs": [
    {
     "data": {
      "text/html": [
       "<div>\n",
       "<style scoped>\n",
       "    .dataframe tbody tr th:only-of-type {\n",
       "        vertical-align: middle;\n",
       "    }\n",
       "\n",
       "    .dataframe tbody tr th {\n",
       "        vertical-align: top;\n",
       "    }\n",
       "\n",
       "    .dataframe thead th {\n",
       "        text-align: right;\n",
       "    }\n",
       "</style>\n",
       "<table border=\"1\" class=\"dataframe\">\n",
       "  <thead>\n",
       "    <tr style=\"text-align: right;\">\n",
       "      <th></th>\n",
       "      <th>cnum_</th>\n",
       "      <th>categorycode</th>\n",
       "      <th>gender</th>\n",
       "      <th>age</th>\n",
       "      <th>married_</th>\n",
       "      <th>residenttype</th>\n",
       "      <th>category</th>\n",
       "      <th>description</th>\n",
       "      <th>Коэффициент_туризма</th>\n",
       "      <th>Склонность к путешествиям</th>\n",
       "    </tr>\n",
       "  </thead>\n",
       "  <tbody>\n",
       "    <tr>\n",
       "      <td>0</td>\n",
       "      <td>0CCCDO</td>\n",
       "      <td>81</td>\n",
       "      <td>M</td>\n",
       "      <td>32</td>\n",
       "      <td>not_married</td>\n",
       "      <td>R</td>\n",
       "      <td>81</td>\n",
       "      <td>Affluent Banking payroll customer</td>\n",
       "      <td>0.500000</td>\n",
       "      <td>Черепаха</td>\n",
       "    </tr>\n",
       "    <tr>\n",
       "      <td>1</td>\n",
       "      <td>0CCCFO</td>\n",
       "      <td>70</td>\n",
       "      <td>F</td>\n",
       "      <td>42</td>\n",
       "      <td>not_married</td>\n",
       "      <td>R</td>\n",
       "      <td>70</td>\n",
       "      <td>Regular retail banking customer</td>\n",
       "      <td>0.680000</td>\n",
       "      <td>Слон</td>\n",
       "    </tr>\n",
       "    <tr>\n",
       "      <td>2</td>\n",
       "      <td>0CCCGC</td>\n",
       "      <td>50</td>\n",
       "      <td>F</td>\n",
       "      <td>33</td>\n",
       "      <td>married</td>\n",
       "      <td>R</td>\n",
       "      <td>50</td>\n",
       "      <td>Corporate customer employee/ payroll scheme</td>\n",
       "      <td>0.680000</td>\n",
       "      <td>Слон</td>\n",
       "    </tr>\n",
       "    <tr>\n",
       "      <td>3</td>\n",
       "      <td>0CCCGG</td>\n",
       "      <td>70</td>\n",
       "      <td>M</td>\n",
       "      <td>58</td>\n",
       "      <td>not_married</td>\n",
       "      <td>R</td>\n",
       "      <td>70</td>\n",
       "      <td>Regular retail banking customer</td>\n",
       "      <td>0.680000</td>\n",
       "      <td>Слон</td>\n",
       "    </tr>\n",
       "    <tr>\n",
       "      <td>4</td>\n",
       "      <td>0CCCGO</td>\n",
       "      <td>60</td>\n",
       "      <td>M</td>\n",
       "      <td>38</td>\n",
       "      <td>married</td>\n",
       "      <td>R</td>\n",
       "      <td>60</td>\n",
       "      <td>RBA employees</td>\n",
       "      <td>0.680000</td>\n",
       "      <td>Слон</td>\n",
       "    </tr>\n",
       "    <tr>\n",
       "      <td>5</td>\n",
       "      <td>0CCCGS</td>\n",
       "      <td>50</td>\n",
       "      <td>M</td>\n",
       "      <td>40</td>\n",
       "      <td>not_married</td>\n",
       "      <td>R</td>\n",
       "      <td>50</td>\n",
       "      <td>Corporate customer employee/ payroll scheme</td>\n",
       "      <td>0.666667</td>\n",
       "      <td>Черепаха</td>\n",
       "    </tr>\n",
       "    <tr>\n",
       "      <td>6</td>\n",
       "      <td>0CCCHG</td>\n",
       "      <td>70</td>\n",
       "      <td>M</td>\n",
       "      <td>30</td>\n",
       "      <td>married</td>\n",
       "      <td>R</td>\n",
       "      <td>70</td>\n",
       "      <td>Regular retail banking customer</td>\n",
       "      <td>0.680000</td>\n",
       "      <td>Слон</td>\n",
       "    </tr>\n",
       "    <tr>\n",
       "      <td>7</td>\n",
       "      <td>0CCCHS</td>\n",
       "      <td>80</td>\n",
       "      <td>M</td>\n",
       "      <td>70</td>\n",
       "      <td>married</td>\n",
       "      <td>R</td>\n",
       "      <td>80</td>\n",
       "      <td>Affluent Banking regular customer</td>\n",
       "      <td>0.115385</td>\n",
       "      <td>Дендройд</td>\n",
       "    </tr>\n",
       "    <tr>\n",
       "      <td>8</td>\n",
       "      <td>0CCCNN</td>\n",
       "      <td>70</td>\n",
       "      <td>F</td>\n",
       "      <td>32</td>\n",
       "      <td>not_married</td>\n",
       "      <td>R</td>\n",
       "      <td>70</td>\n",
       "      <td>Regular retail banking customer</td>\n",
       "      <td>0.680000</td>\n",
       "      <td>Слон</td>\n",
       "    </tr>\n",
       "    <tr>\n",
       "      <td>9</td>\n",
       "      <td>0CCCNX</td>\n",
       "      <td>50</td>\n",
       "      <td>M</td>\n",
       "      <td>61</td>\n",
       "      <td>married</td>\n",
       "      <td>R</td>\n",
       "      <td>50</td>\n",
       "      <td>Corporate customer employee/ payroll scheme</td>\n",
       "      <td>0.680000</td>\n",
       "      <td>Слон</td>\n",
       "    </tr>\n",
       "    <tr>\n",
       "      <td>10</td>\n",
       "      <td>0CCCOD</td>\n",
       "      <td>81</td>\n",
       "      <td>M</td>\n",
       "      <td>36</td>\n",
       "      <td>not_married</td>\n",
       "      <td>R</td>\n",
       "      <td>81</td>\n",
       "      <td>Affluent Banking payroll customer</td>\n",
       "      <td>0.680000</td>\n",
       "      <td>Слон</td>\n",
       "    </tr>\n",
       "    <tr>\n",
       "      <td>11</td>\n",
       "      <td>0CCCON</td>\n",
       "      <td>70</td>\n",
       "      <td>F</td>\n",
       "      <td>39</td>\n",
       "      <td>married</td>\n",
       "      <td>R</td>\n",
       "      <td>70</td>\n",
       "      <td>Regular retail banking customer</td>\n",
       "      <td>0.680000</td>\n",
       "      <td>Слон</td>\n",
       "    </tr>\n",
       "    <tr>\n",
       "      <td>12</td>\n",
       "      <td>0CCCOO</td>\n",
       "      <td>50</td>\n",
       "      <td>F</td>\n",
       "      <td>40</td>\n",
       "      <td>not_married</td>\n",
       "      <td>R</td>\n",
       "      <td>50</td>\n",
       "      <td>Corporate customer employee/ payroll scheme</td>\n",
       "      <td>0.166667</td>\n",
       "      <td>Дендройд</td>\n",
       "    </tr>\n",
       "    <tr>\n",
       "      <td>13</td>\n",
       "      <td>0CCCOS</td>\n",
       "      <td>70</td>\n",
       "      <td>M</td>\n",
       "      <td>50</td>\n",
       "      <td>married</td>\n",
       "      <td>R</td>\n",
       "      <td>70</td>\n",
       "      <td>Regular retail banking customer</td>\n",
       "      <td>1.000000</td>\n",
       "      <td>Лягушка-путешественница</td>\n",
       "    </tr>\n",
       "    <tr>\n",
       "      <td>14</td>\n",
       "      <td>0CCCOX</td>\n",
       "      <td>70</td>\n",
       "      <td>M</td>\n",
       "      <td>31</td>\n",
       "      <td>not_married</td>\n",
       "      <td>R</td>\n",
       "      <td>70</td>\n",
       "      <td>Regular retail banking customer</td>\n",
       "      <td>0.680000</td>\n",
       "      <td>Слон</td>\n",
       "    </tr>\n",
       "    <tr>\n",
       "      <td>15</td>\n",
       "      <td>0CCCSC</td>\n",
       "      <td>60</td>\n",
       "      <td>M</td>\n",
       "      <td>64</td>\n",
       "      <td>married</td>\n",
       "      <td>R</td>\n",
       "      <td>60</td>\n",
       "      <td>RBA employees</td>\n",
       "      <td>0.500000</td>\n",
       "      <td>Черепаха</td>\n",
       "    </tr>\n",
       "    <tr>\n",
       "      <td>16</td>\n",
       "      <td>0CCCXD</td>\n",
       "      <td>70</td>\n",
       "      <td>M</td>\n",
       "      <td>30</td>\n",
       "      <td>married</td>\n",
       "      <td>R</td>\n",
       "      <td>70</td>\n",
       "      <td>Regular retail banking customer</td>\n",
       "      <td>0.680000</td>\n",
       "      <td>Слон</td>\n",
       "    </tr>\n",
       "    <tr>\n",
       "      <td>17</td>\n",
       "      <td>0CCCXN</td>\n",
       "      <td>70</td>\n",
       "      <td>M</td>\n",
       "      <td>40</td>\n",
       "      <td>married</td>\n",
       "      <td>R</td>\n",
       "      <td>70</td>\n",
       "      <td>Regular retail banking customer</td>\n",
       "      <td>0.680000</td>\n",
       "      <td>Слон</td>\n",
       "    </tr>\n",
       "    <tr>\n",
       "      <td>18</td>\n",
       "      <td>0CCCYD</td>\n",
       "      <td>70</td>\n",
       "      <td>M</td>\n",
       "      <td>51</td>\n",
       "      <td>married</td>\n",
       "      <td>R</td>\n",
       "      <td>70</td>\n",
       "      <td>Regular retail banking customer</td>\n",
       "      <td>0.680000</td>\n",
       "      <td>Слон</td>\n",
       "    </tr>\n",
       "    <tr>\n",
       "      <td>19</td>\n",
       "      <td>0CCCYF</td>\n",
       "      <td>84</td>\n",
       "      <td>M</td>\n",
       "      <td>56</td>\n",
       "      <td>not_married</td>\n",
       "      <td>R</td>\n",
       "      <td>84</td>\n",
       "      <td>Premium Direct Regular Customer</td>\n",
       "      <td>1.000000</td>\n",
       "      <td>Лягушка-путешественница</td>\n",
       "    </tr>\n",
       "    <tr>\n",
       "      <td>20</td>\n",
       "      <td>0CCDCD</td>\n",
       "      <td>50</td>\n",
       "      <td>M</td>\n",
       "      <td>31</td>\n",
       "      <td>married</td>\n",
       "      <td>R</td>\n",
       "      <td>50</td>\n",
       "      <td>Corporate customer employee/ payroll scheme</td>\n",
       "      <td>0.680000</td>\n",
       "      <td>Слон</td>\n",
       "    </tr>\n",
       "    <tr>\n",
       "      <td>21</td>\n",
       "      <td>0CCDCF</td>\n",
       "      <td>50</td>\n",
       "      <td>M</td>\n",
       "      <td>30</td>\n",
       "      <td>not_married</td>\n",
       "      <td>R</td>\n",
       "      <td>50</td>\n",
       "      <td>Corporate customer employee/ payroll scheme</td>\n",
       "      <td>0.680000</td>\n",
       "      <td>Слон</td>\n",
       "    </tr>\n",
       "    <tr>\n",
       "      <td>22</td>\n",
       "      <td>0CCDDF</td>\n",
       "      <td>70</td>\n",
       "      <td>M</td>\n",
       "      <td>46</td>\n",
       "      <td>not_married</td>\n",
       "      <td>R</td>\n",
       "      <td>70</td>\n",
       "      <td>Regular retail banking customer</td>\n",
       "      <td>0.333333</td>\n",
       "      <td>Дендройд</td>\n",
       "    </tr>\n",
       "    <tr>\n",
       "      <td>23</td>\n",
       "      <td>0CCDFN</td>\n",
       "      <td>81</td>\n",
       "      <td>M</td>\n",
       "      <td>50</td>\n",
       "      <td>married</td>\n",
       "      <td>R</td>\n",
       "      <td>81</td>\n",
       "      <td>Affluent Banking payroll customer</td>\n",
       "      <td>0.680000</td>\n",
       "      <td>Слон</td>\n",
       "    </tr>\n",
       "    <tr>\n",
       "      <td>24</td>\n",
       "      <td>0CCDGO</td>\n",
       "      <td>70</td>\n",
       "      <td>M</td>\n",
       "      <td>31</td>\n",
       "      <td>not_married</td>\n",
       "      <td>R</td>\n",
       "      <td>70</td>\n",
       "      <td>Regular retail banking customer</td>\n",
       "      <td>0.680000</td>\n",
       "      <td>Слон</td>\n",
       "    </tr>\n",
       "    <tr>\n",
       "      <td>25</td>\n",
       "      <td>0CCDHS</td>\n",
       "      <td>50</td>\n",
       "      <td>M</td>\n",
       "      <td>48</td>\n",
       "      <td>married</td>\n",
       "      <td>R</td>\n",
       "      <td>50</td>\n",
       "      <td>Corporate customer employee/ payroll scheme</td>\n",
       "      <td>0.680000</td>\n",
       "      <td>Слон</td>\n",
       "    </tr>\n",
       "    <tr>\n",
       "      <td>26</td>\n",
       "      <td>0CCDNG</td>\n",
       "      <td>50</td>\n",
       "      <td>F</td>\n",
       "      <td>39</td>\n",
       "      <td>married</td>\n",
       "      <td>R</td>\n",
       "      <td>50</td>\n",
       "      <td>Corporate customer employee/ payroll scheme</td>\n",
       "      <td>1.000000</td>\n",
       "      <td>Лягушка-путешественница</td>\n",
       "    </tr>\n",
       "    <tr>\n",
       "      <td>27</td>\n",
       "      <td>0CCDOF</td>\n",
       "      <td>50</td>\n",
       "      <td>M</td>\n",
       "      <td>36</td>\n",
       "      <td>not_married</td>\n",
       "      <td>R</td>\n",
       "      <td>50</td>\n",
       "      <td>Corporate customer employee/ payroll scheme</td>\n",
       "      <td>0.333333</td>\n",
       "      <td>Дендройд</td>\n",
       "    </tr>\n",
       "    <tr>\n",
       "      <td>28</td>\n",
       "      <td>0CCDOO</td>\n",
       "      <td>50</td>\n",
       "      <td>M</td>\n",
       "      <td>34</td>\n",
       "      <td>not_married</td>\n",
       "      <td>R</td>\n",
       "      <td>50</td>\n",
       "      <td>Corporate customer employee/ payroll scheme</td>\n",
       "      <td>0.680000</td>\n",
       "      <td>Слон</td>\n",
       "    </tr>\n",
       "    <tr>\n",
       "      <td>29</td>\n",
       "      <td>0CCDOS</td>\n",
       "      <td>50</td>\n",
       "      <td>M</td>\n",
       "      <td>30</td>\n",
       "      <td>married</td>\n",
       "      <td>R</td>\n",
       "      <td>50</td>\n",
       "      <td>Corporate customer employee/ payroll scheme</td>\n",
       "      <td>0.680000</td>\n",
       "      <td>Слон</td>\n",
       "    </tr>\n",
       "  </tbody>\n",
       "</table>\n",
       "</div>"
      ],
      "text/plain": [
       "     cnum_  categorycode gender  age     married_ residenttype  category  \\\n",
       "0   0CCCDO            81      M   32  not_married            R        81   \n",
       "1   0CCCFO            70      F   42  not_married            R        70   \n",
       "2   0CCCGC            50      F   33      married            R        50   \n",
       "3   0CCCGG            70      M   58  not_married            R        70   \n",
       "4   0CCCGO            60      M   38      married            R        60   \n",
       "5   0CCCGS            50      M   40  not_married            R        50   \n",
       "6   0CCCHG            70      M   30      married            R        70   \n",
       "7   0CCCHS            80      M   70      married            R        80   \n",
       "8   0CCCNN            70      F   32  not_married            R        70   \n",
       "9   0CCCNX            50      M   61      married            R        50   \n",
       "10  0CCCOD            81      M   36  not_married            R        81   \n",
       "11  0CCCON            70      F   39      married            R        70   \n",
       "12  0CCCOO            50      F   40  not_married            R        50   \n",
       "13  0CCCOS            70      M   50      married            R        70   \n",
       "14  0CCCOX            70      M   31  not_married            R        70   \n",
       "15  0CCCSC            60      M   64      married            R        60   \n",
       "16  0CCCXD            70      M   30      married            R        70   \n",
       "17  0CCCXN            70      M   40      married            R        70   \n",
       "18  0CCCYD            70      M   51      married            R        70   \n",
       "19  0CCCYF            84      M   56  not_married            R        84   \n",
       "20  0CCDCD            50      M   31      married            R        50   \n",
       "21  0CCDCF            50      M   30  not_married            R        50   \n",
       "22  0CCDDF            70      M   46  not_married            R        70   \n",
       "23  0CCDFN            81      M   50      married            R        81   \n",
       "24  0CCDGO            70      M   31  not_married            R        70   \n",
       "25  0CCDHS            50      M   48      married            R        50   \n",
       "26  0CCDNG            50      F   39      married            R        50   \n",
       "27  0CCDOF            50      M   36  not_married            R        50   \n",
       "28  0CCDOO            50      M   34  not_married            R        50   \n",
       "29  0CCDOS            50      M   30      married            R        50   \n",
       "\n",
       "                                    description  Коэффициент_туризма  \\\n",
       "0             Affluent Banking payroll customer             0.500000   \n",
       "1               Regular retail banking customer             0.680000   \n",
       "2   Corporate customer employee/ payroll scheme             0.680000   \n",
       "3               Regular retail banking customer             0.680000   \n",
       "4                                 RBA employees             0.680000   \n",
       "5   Corporate customer employee/ payroll scheme             0.666667   \n",
       "6               Regular retail banking customer             0.680000   \n",
       "7             Affluent Banking regular customer             0.115385   \n",
       "8               Regular retail banking customer             0.680000   \n",
       "9   Corporate customer employee/ payroll scheme             0.680000   \n",
       "10            Affluent Banking payroll customer             0.680000   \n",
       "11              Regular retail banking customer             0.680000   \n",
       "12  Corporate customer employee/ payroll scheme             0.166667   \n",
       "13              Regular retail banking customer             1.000000   \n",
       "14              Regular retail banking customer             0.680000   \n",
       "15                                RBA employees             0.500000   \n",
       "16              Regular retail banking customer             0.680000   \n",
       "17              Regular retail banking customer             0.680000   \n",
       "18              Regular retail banking customer             0.680000   \n",
       "19              Premium Direct Regular Customer             1.000000   \n",
       "20  Corporate customer employee/ payroll scheme             0.680000   \n",
       "21  Corporate customer employee/ payroll scheme             0.680000   \n",
       "22              Regular retail banking customer             0.333333   \n",
       "23            Affluent Banking payroll customer             0.680000   \n",
       "24              Regular retail banking customer             0.680000   \n",
       "25  Corporate customer employee/ payroll scheme             0.680000   \n",
       "26  Corporate customer employee/ payroll scheme             1.000000   \n",
       "27  Corporate customer employee/ payroll scheme             0.333333   \n",
       "28  Corporate customer employee/ payroll scheme             0.680000   \n",
       "29  Corporate customer employee/ payroll scheme             0.680000   \n",
       "\n",
       "   Склонность к путешествиям  \n",
       "0                   Черепаха  \n",
       "1                       Слон  \n",
       "2                       Слон  \n",
       "3                       Слон  \n",
       "4                       Слон  \n",
       "5                   Черепаха  \n",
       "6                       Слон  \n",
       "7                   Дендройд  \n",
       "8                       Слон  \n",
       "9                       Слон  \n",
       "10                      Слон  \n",
       "11                      Слон  \n",
       "12                  Дендройд  \n",
       "13   Лягушка-путешественница  \n",
       "14                      Слон  \n",
       "15                  Черепаха  \n",
       "16                      Слон  \n",
       "17                      Слон  \n",
       "18                      Слон  \n",
       "19   Лягушка-путешественница  \n",
       "20                      Слон  \n",
       "21                      Слон  \n",
       "22                  Дендройд  \n",
       "23                      Слон  \n",
       "24                      Слон  \n",
       "25                      Слон  \n",
       "26   Лягушка-путешественница  \n",
       "27                  Дендройд  \n",
       "28                      Слон  \n",
       "29                      Слон  "
      ]
     },
     "execution_count": 50,
     "metadata": {},
     "output_type": "execute_result"
    }
   ],
   "source": [
    "full_clients.head(30)"
   ]
  },
  {
   "cell_type": "code",
   "execution_count": 48,
   "metadata": {},
   "outputs": [],
   "source": [
    "def to_tourism(x):\n",
    "    if x<0.4:\n",
    "        return 'Дендройд'\n",
    "    if x<0.68:\n",
    "        return 'Черепаха'\n",
    "    if x<0.69:\n",
    "        return 'Слон'\n",
    "    if x>0.69:\n",
    "        return 'Лягушка-путешественница'\n"
   ]
  },
  {
   "cell_type": "code",
   "execution_count": 49,
   "metadata": {},
   "outputs": [],
   "source": [
    "full_clients['Склонность к путешествиям']=list(map(lambda x:to_tourism(x),full_clients['Коэффициент_туризма']))"
   ]
  },
  {
   "cell_type": "code",
   "execution_count": null,
   "metadata": {},
   "outputs": [],
   "source": [
    "full_clients"
   ]
  },
  {
   "cell_type": "code",
   "execution_count": 51,
   "metadata": {},
   "outputs": [],
   "source": [
    "from sklearn.cluster import KMeans"
   ]
  },
  {
   "cell_type": "code",
   "execution_count": 52,
   "metadata": {},
   "outputs": [],
   "source": [
    "kmeans = KMeans(n_clusters=5)"
   ]
  },
  {
   "cell_type": "code",
   "execution_count": 54,
   "metadata": {},
   "outputs": [],
   "source": [
    "full_clients['gender_cat']=full_clients['gender'].replace({'M':0,'F':1})"
   ]
  },
  {
   "cell_type": "code",
   "execution_count": 58,
   "metadata": {},
   "outputs": [],
   "source": [
    "y_pred = KMeans(n_clusters=5).fit_predict(full_clients[['gender_cat','age']])"
   ]
  },
  {
   "cell_type": "code",
   "execution_count": null,
   "metadata": {},
   "outputs": [],
   "source": []
  },
  {
   "cell_type": "code",
   "execution_count": 62,
   "metadata": {},
   "outputs": [
    {
     "data": {
      "text/plain": [
       "<matplotlib.collections.PathCollection at 0x18b904e4bc8>"
      ]
     },
     "execution_count": 62,
     "metadata": {},
     "output_type": "execute_result"
    },
    {
     "data": {
      "image/png": "[encoded data removed]",
      "text/plain": [
       "<Figure size 432x288 with 1 Axes>"
      ]
     },
     "metadata": {
      "needs_background": "light"
     },
     "output_type": "display_data"
    }
   ],
   "source": [
    "plt.scatter(full_clients['gender_cat'][:100], full_clients['age'][:100], c=y_pred[:100])"
   ]
  },
  {
   "cell_type": "code",
   "execution_count": null,
   "metadata": {},
   "outputs": [],
   "source": [
    "kmeans = KMeans(n_clusters=2)\n",
    "kmeans.fit(X)\n",
    "KMeans(algorithm='auto', copy_x=True, init='k-means++', max_iter=300,\n",
    "n_clusters=2, n_init=10, n_jobs=1, precompute_distances='auto',\n",
    "random_state=None, tol=0.0001, verbose=0)"
   ]
  },
  {
   "cell_type": "code",
   "execution_count": 64,
   "metadata": {},
   "outputs": [],
   "source": [
    "full_clients['married_cat']=full_clients['married_'].replace({'not_married':0,'married':1})"
   ]
  },
  {
   "cell_type": "code",
   "execution_count": 65,
   "metadata": {},
   "outputs": [],
   "source": [
    "full_clients['resident_type']=full_clients['residenttype'].replace({'R':0,'N':1})"
   ]
  },
  {
   "cell_type": "code",
   "execution_count": 67,
   "metadata": {},
   "outputs": [],
   "source": [
    "y_pred2 = KMeans(n_clusters=4).fit_predict(full_clients[['gender_cat','married_cat','resident_type']])"
   ]
  },
  {
   "cell_type": "code",
   "execution_count": 68,
   "metadata": {},
   "outputs": [],
   "source": [
    "full_clients['Категория_номер']=y_pred2"
   ]
  },
  {
   "cell_type": "code",
   "execution_count": 69,
   "metadata": {},
   "outputs": [
    {
     "data": {
      "text/plain": [
       "array([0, 1, 3, 2], dtype=int64)"
      ]
     },
     "execution_count": 69,
     "metadata": {},
     "output_type": "execute_result"
    }
   ],
   "source": [
    "full_clients['Категория_номер'].unique()"
   ]
  },
  {
   "cell_type": "code",
   "execution_count": 72,
   "metadata": {},
   "outputs": [],
   "source": [
    "from sklearn.preprocessing import StandardScaler"
   ]
  },
  {
   "cell_type": "code",
   "execution_count": 73,
   "metadata": {},
   "outputs": [],
   "source": [
    "scaler = StandardScaler()"
   ]
  },
  {
   "cell_type": "code",
   "execution_count": 74,
   "metadata": {},
   "outputs": [
    {
     "data": {
      "text/plain": [
       "StandardScaler(copy=True, with_mean=True, with_std=True)"
      ]
     },
     "execution_count": 74,
     "metadata": {},
     "output_type": "execute_result"
    }
   ],
   "source": [
    "scaler.fit(full_clients[['gender_cat','married_cat','resident_type','age']])"
   ]
  },
  {
   "cell_type": "code",
   "execution_count": 75,
   "metadata": {},
   "outputs": [
    {
     "data": {
      "text/plain": [
       "array([[-0.94619936, -0.74295748, -0.17050324, -0.72652942],\n",
       "       [ 1.05685973, -0.74295748, -0.17050324,  0.14560451],\n",
       "       [ 1.05685973,  1.34597205, -0.17050324, -0.63931603],\n",
       "       ...,\n",
       "       [-0.94619936, -0.74295748, -0.17050324, -0.63931603],\n",
       "       [ 1.05685973,  1.34597205, -0.17050324, -0.29046246],\n",
       "       [-0.94619936,  1.34597205, -0.17050324, -0.46488924]])"
      ]
     },
     "execution_count": 75,
     "metadata": {},
     "output_type": "execute_result"
    }
   ],
   "source": [
    "scaler.transform(full_clients[['gender_cat','married_cat','resident_type','age']])"
   ]
  },
  {
   "cell_type": "code",
   "execution_count": 76,
   "metadata": {},
   "outputs": [],
   "source": [
    "y_pred3 = KMeans(n_clusters=4).fit_predict(scaler.transform(full_clients[['gender_cat','married_cat','resident_type','age']]))"
   ]
  },
  {
   "cell_type": "code",
   "execution_count": 77,
   "metadata": {},
   "outputs": [],
   "source": [
    "full_clients['Категория_номер']=y_pred3"
   ]
  },
  {
   "cell_type": "code",
   "execution_count": 78,
   "metadata": {},
   "outputs": [
    {
     "name": "stdout",
     "output_type": "stream",
     "text": [
      "0.4146100215216904\n",
      "1.0\n",
      "0.0\n",
      "43.20415638955308\n",
      "\n",
      "\n",
      "0.0\n",
      "0.0\n",
      "0.0\n",
      "38.48281023422715\n",
      "\n",
      "\n",
      "1.0\n",
      "0.0\n",
      "0.0\n",
      "39.22701513295829\n",
      "\n",
      "\n",
      "0.23761910977679154\n",
      "0.13212374363660095\n",
      "1.0\n",
      "36.6463124918418\n"
     ]
    }
   ],
   "source": [
    "print(full_clients[full_clients['Категория_номер']==0]['gender_cat'].mean())\n",
    "print(full_clients[full_clients['Категория_номер']==0]['married_cat'].mean())\n",
    "print(full_clients[full_clients['Категория_номер']==0]['resident_type'].mean())\n",
    "print(full_clients[full_clients['Категория_номер']==0]['age'].mean())\n",
    "print('\\n')\n",
    "print(full_clients[full_clients['Категория_номер']==1]['gender_cat'].mean())\n",
    "print(full_clients[full_clients['Категория_номер']==1]['married_cat'].mean())\n",
    "print(full_clients[full_clients['Категория_номер']==1]['resident_type'].mean())\n",
    "print(full_clients[full_clients['Категория_номер']==1]['age'].mean())\n",
    "print('\\n')\n",
    "print(full_clients[full_clients['Категория_номер']==2]['gender_cat'].mean())\n",
    "print(full_clients[full_clients['Категория_номер']==2]['married_cat'].mean())\n",
    "print(full_clients[full_clients['Категория_номер']==2]['resident_type'].mean())\n",
    "print(full_clients[full_clients['Категория_номер']==2]['age'].mean())\n",
    "print('\\n')\n",
    "print(full_clients[full_clients['Категория_номер']==3]['gender_cat'].mean())\n",
    "print(full_clients[full_clients['Категория_номер']==3]['married_cat'].mean())\n",
    "print(full_clients[full_clients['Категория_номер']==3]['resident_type'].mean())\n",
    "print(full_clients[full_clients['Категория_номер']==3]['age'].mean())"
   ]
  },
  {
   "cell_type": "code",
   "execution_count": 79,
   "metadata": {},
   "outputs": [],
   "source": [
    "def category(x):\n",
    "    if x==0:\n",
    "        return 'Семейные'\n",
    "    if x==1:\n",
    "        return 'Холостяки'\n",
    "    if x==2:\n",
    "        return 'Независимые'\n",
    "    if x==3:\n",
    "        return 'Приезжие'"
   ]
  },
  {
   "cell_type": "code",
   "execution_count": 80,
   "metadata": {},
   "outputs": [],
   "source": [
    "full_clients['Категория']=list(map(lambda x:category(x),full_clients['Категория_номер']))"
   ]
  },
  {
   "cell_type": "code",
   "execution_count": null,
   "metadata": {},
   "outputs": [],
   "source": [
    "'''\n",
    "Дано:\n",
    "cnum_\n",
    "получаем фичи из \n",
    "\n",
    "возраст+зп\n",
    "\n",
    "\n",
    "'''"
   ]
  }
 ],
 "metadata": {
  "kernelspec": {
   "display_name": "Python 3",
   "language": "python",
   "name": "python3"
  },
  "language_info": {
   "codemirror_mode": {
    "name": "ipython",
    "version": 3
   },
   "file_extension": ".py",
   "mimetype": "text/x-python",
   "name": "python",
   "nbconvert_exporter": "python",
   "pygments_lexer": "ipython3",
   "version": "3.7.4"
  }
 },
 "nbformat": 4,
 "nbformat_minor": 2
}
